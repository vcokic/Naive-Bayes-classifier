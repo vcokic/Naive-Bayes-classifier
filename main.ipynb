{
  "nbformat": 4,
  "nbformat_minor": 0,
  "metadata": {
    "colab": {
      "provenance": []
    },
    "kernelspec": {
      "name": "python3",
      "display_name": "Python 3"
    },
    "language_info": {
      "name": "python"
    }
  },
  "cells": [
    {
      "cell_type": "code",
      "execution_count": 1,
      "metadata": {
        "colab": {
          "base_uri": "https://localhost:8080/"
        },
        "id": "Gb_Kszks2DuW",
        "outputId": "20096563-2f1b-4dec-854f-901e95be947e"
      },
      "outputs": [
        {
          "output_type": "stream",
          "name": "stdout",
          "text": [
            "Mounted at /content/drive\n"
          ]
        }
      ],
      "source": [
        "from google.colab import drive\n",
        "drive.mount('/content/drive')"
      ]
    },
    {
      "cell_type": "code",
      "source": [
        "%cd /content/drive/MyDrive/UOPJ"
      ],
      "metadata": {
        "colab": {
          "base_uri": "https://localhost:8080/"
        },
        "id": "wxg89Cv07zMR",
        "outputId": "959187ff-dcc0-4695-8f52-a7566a1f999b"
      },
      "execution_count": 2,
      "outputs": [
        {
          "output_type": "stream",
          "name": "stdout",
          "text": [
            "/content/drive/MyDrive/UOPJ\n"
          ]
        }
      ]
    },
    {
      "cell_type": "code",
      "source": [
        "sections = [\"culture\", \"future\", \"travel\", \"worklife\"]"
      ],
      "metadata": {
        "id": "VAlDiRZL71qD"
      },
      "execution_count": 3,
      "outputs": []
    },
    {
      "cell_type": "markdown",
      "source": [
        "On the website https://www.bbc.com/ there is news arranged in sections. We chose four sections (culture, future, travel, worklife) and extracted the texts of the articles from them. In the end, we wanted to train the Naive Bayes classifier to recognize which section a given sentence belongs to."
      ],
      "metadata": {
        "id": "_jFn4dAUCpZB"
      }
    },
    {
      "cell_type": "markdown",
      "source": [
        "If you have the necessary datasets, it is not necessary to run the data collection part. Only the functions for data processing, creation and evaluation of data need to be run."
      ],
      "metadata": {
        "id": "ird1YmqDXg3f"
      }
    },
    {
      "cell_type": "markdown",
      "source": [
        "# Imports"
      ],
      "metadata": {
        "id": "3iDPppuqCWhq"
      }
    },
    {
      "cell_type": "code",
      "source": [
        "# Data collection\n",
        "import requests\n",
        "from bs4 import BeautifulSoup\n",
        "import os\n",
        "\n",
        "# Data processing\n",
        "import nltk\n",
        "import nltk.data\n",
        "nltk.download(\"punkt\")\n",
        "from nltk.corpus import stopwords\n",
        "nltk.download('stopwords')\n",
        "import re\n",
        "from nltk.stem.porter import PorterStemmer\n",
        "\n",
        "# Descriptive statistics\n",
        "import numpy as np\n",
        "import matplotlib.pyplot as plt\n",
        "\n",
        "# Creating model and evaluation\n",
        "import csv\n",
        "import pandas as pd"
      ],
      "metadata": {
        "colab": {
          "base_uri": "https://localhost:8080/"
        },
        "id": "EntMcIO_CaZn",
        "outputId": "449768d7-cae0-42af-d1bc-ff977dfae069"
      },
      "execution_count": 27,
      "outputs": [
        {
          "output_type": "stream",
          "name": "stderr",
          "text": [
            "[nltk_data] Downloading package punkt to /root/nltk_data...\n",
            "[nltk_data]   Unzipping tokenizers/punkt.zip.\n",
            "[nltk_data] Downloading package stopwords to /root/nltk_data...\n",
            "[nltk_data]   Unzipping corpora/stopwords.zip.\n"
          ]
        }
      ]
    },
    {
      "cell_type": "markdown",
      "source": [
        "# Functions"
      ],
      "metadata": {
        "id": "dQFFfcQAaRF_"
      }
    },
    {
      "cell_type": "markdown",
      "source": [
        "## Data collection"
      ],
      "metadata": {
        "id": "nNStaAHi7_sW"
      }
    },
    {
      "cell_type": "markdown",
      "source": [
        "The **Get_urls** function receives one url as a parameter. It is the homepage url. It then searches the page and finds all the links that are on that home page. Finally, it returns a list of all the links it found."
      ],
      "metadata": {
        "id": "gp34ZvifV-rc"
      }
    },
    {
      "cell_type": "code",
      "source": [
        "def Get_urls(url):\n",
        "    reqs = requests.get(url)\n",
        "    soup = BeautifulSoup(reqs.text, \"html.parser\")\n",
        "    \n",
        "    urls = []\n",
        "    for link in soup.find_all(\"a\"):\n",
        "        urls.append(link.get(\"href\"))\n",
        "    \n",
        "    return urls"
      ],
      "metadata": {
        "id": "LaQDXpjaV-Md"
      },
      "execution_count": null,
      "outputs": []
    },
    {
      "cell_type": "markdown",
      "source": [
        "The **Get_links** function receives a list of urls and an identifier that shows us whether a url belongs to the section we need. In this case, if the url starts with \"section + /article/\" we know that this url should be saved, otherwise we delete it."
      ],
      "metadata": {
        "id": "50uYS2tmWEVk"
      }
    },
    {
      "cell_type": "code",
      "source": [
        "def Get_links(urls, start):\n",
        "    links = []\n",
        "    for url in urls:\n",
        "        if str(url).startswith(start):\n",
        "            url1=\"https://www.bbc.com\" + url\n",
        "            if url1 not in links:\n",
        "                links.append(url1)\n",
        "    \n",
        "    return links"
      ],
      "metadata": {
        "id": "fk5BmOB9WEBy"
      },
      "execution_count": null,
      "outputs": []
    },
    {
      "cell_type": "markdown",
      "source": [
        "The **Get_contents** function receives as a parameter the links we saved in the previous step. Each section has several subcategories, so it is necessary to say how many there are. The function returns a list of all paragraphs in the article, removing subcategory names."
      ],
      "metadata": {
        "id": "Vpau2MsfWJsX"
      }
    },
    {
      "cell_type": "code",
      "source": [
        "def Get_contents(links, start):\n",
        "    contents = []\n",
        "    for link in links:\n",
        "        page = requests.get(str(link))\n",
        "        soup = BeautifulSoup(page.content, \"html.parser\")\n",
        "        \n",
        "        content = []\n",
        "        for el in soup.select(\"p\"):\n",
        "            content.append(el.text)\n",
        "        \n",
        "        contents.append(content[start:])\n",
        "    \n",
        "    return contents"
      ],
      "metadata": {
        "id": "6oesAhljWJVx"
      },
      "execution_count": null,
      "outputs": []
    },
    {
      "cell_type": "markdown",
      "source": [
        "The **Get_sentences** function receives a list of sentences and combines them into a single text. Finally, it returns a list of merged texts for each article in a certain section."
      ],
      "metadata": {
        "id": "pBt5czr1WPYl"
      }
    },
    {
      "cell_type": "code",
      "source": [
        "def Get_sentences(contents):\n",
        "    sentences = []\n",
        "    for content in contents:\n",
        "        raw_sents = \"\"\n",
        "        for recenica in content:\n",
        "            raw_sents += recenica\n",
        "        \n",
        "        sentences.append(raw_sents)\n",
        "    \n",
        "    return sentences"
      ],
      "metadata": {
        "id": "qEGOxDv4WO4_"
      },
      "execution_count": null,
      "outputs": []
    },
    {
      "cell_type": "markdown",
      "source": [
        "The **Save_to_txt** function receives a title to be assigned to the txt file and a list of sentences. For each element of the list, it creates a new txt file and saves the text of the article in it."
      ],
      "metadata": {
        "id": "qekMxLWhWUj_"
      }
    },
    {
      "cell_type": "code",
      "source": [
        "def Save_to_txt(title, sentences):\n",
        "    path = f\"./{title}\"\n",
        "    if not os.path.exists(path):\n",
        "        os.makedirs(path)\n",
        "    \n",
        "    for i in range(len(sentences)):\n",
        "        with open(f\"{path}/{i}.txt\", \"w\") as f:\n",
        "            f.write(sentences[i])"
      ],
      "metadata": {
        "id": "zV1L2uwDWUCt"
      },
      "execution_count": null,
      "outputs": []
    },
    {
      "cell_type": "markdown",
      "source": [
        "**Get_dataset** is the main function we call when collecting a data. As a parameter, it receives a section and the number of subcategories for that section. It calls all the above functions."
      ],
      "metadata": {
        "id": "IZPYE1NjWbyF"
      }
    },
    {
      "cell_type": "code",
      "source": [
        "def Get_data(section, excess):\n",
        "    urls = Get_urls(\"https://www.bbc.com/\" + section)\n",
        "    links = Get_links(urls, \"/\" + section + \"/article/\")\n",
        "    contents = Get_contents(links, excess)\n",
        "    sentences = Get_sentences(contents)\n",
        "    Save_to_txt(section, sentences)"
      ],
      "metadata": {
        "id": "AuWn8lyjWbeD"
      },
      "execution_count": null,
      "outputs": []
    },
    {
      "cell_type": "markdown",
      "source": [
        "## Data processing"
      ],
      "metadata": {
        "id": "PF92zH4R7_hX"
      }
    },
    {
      "cell_type": "markdown",
      "source": [
        "The **Text_to_sentences** function receives text as a parameter and breaks it down into a list of sentences."
      ],
      "metadata": {
        "id": "iIgv5_5QZLrx"
      }
    },
    {
      "cell_type": "code",
      "source": [
        "def Text_to_sentences(text):\n",
        "    tokenizer = nltk.data.load(\"tokenizers/punkt/english.pickle\")\n",
        "    \n",
        "    return tokenizer.tokenize(text)"
      ],
      "metadata": {
        "id": "LLq-RH98ZLW4"
      },
      "execution_count": 4,
      "outputs": []
    },
    {
      "cell_type": "markdown",
      "source": [
        "**Get_lowercase_text** is a simple function that takes text as a parameter and transforms it into lowercase text."
      ],
      "metadata": {
        "id": "1chB9nCUZaEp"
      }
    },
    {
      "cell_type": "code",
      "source": [
        "def Get_lowercase_text(text):\n",
        "    return text.lower()"
      ],
      "metadata": {
        "id": "kG-bRv8RZZyX"
      },
      "execution_count": 5,
      "outputs": []
    },
    {
      "cell_type": "markdown",
      "source": [
        "The **Remove_useless_symbols** function receives text as a parameter. It removes all punctuation marks and all other non-letter symbols from it."
      ],
      "metadata": {
        "id": "6O7jL73nZitM"
      }
    },
    {
      "cell_type": "code",
      "source": [
        "def Remove_useless_symbols(text):\n",
        "    return re.sub(r\"¸|\\+|<|>|,|\\.|-|¨|!|\\\"|#|\\$|%|&|\\/|\\(|\\)|=|\\?|\\*|;|:|_|~|ˇ|\\^|˘|°|˛|`|˙|´|˝|\\\\|\\||€|÷|×|\\[|\\]|ł|Ł|ß|¤|@|{|}|§\", \"\", text)"
      ],
      "metadata": {
        "id": "fzvST3LWZiOt"
      },
      "execution_count": 6,
      "outputs": []
    },
    {
      "cell_type": "markdown",
      "source": [
        "The **Stem** function receives a sentence as a parameter. It goes through that sentence and keeps only the stem of the word."
      ],
      "metadata": {
        "id": "0T6wgVd5Zqon"
      }
    },
    {
      "cell_type": "code",
      "source": [
        "def Stem(sentence):\n",
        "    stemmer = PorterStemmer()\n",
        "    \n",
        "    return \" \".join(stemmer.stem(word) for word in sentence.split())"
      ],
      "metadata": {
        "id": "o3NeaMA6ZpZq"
      },
      "execution_count": 7,
      "outputs": []
    },
    {
      "cell_type": "markdown",
      "source": [
        "The **Remove_stopwords** function receives a sentence as a parameter. It compares each word in the sentence with the list of stopwords for the language we use (English) and keeps only those words that are not on that list."
      ],
      "metadata": {
        "id": "-zrnJZXsZwOi"
      }
    },
    {
      "cell_type": "code",
      "source": [
        "def Remove_stopwords(text):\n",
        "    sw = stopwords.words(\"english\")\n",
        "    \n",
        "    return \" \".join([word for word in text.split() if word not in (sw)])"
      ],
      "metadata": {
        "id": "FJlPfuHwZv9A"
      },
      "execution_count": 8,
      "outputs": []
    },
    {
      "cell_type": "markdown",
      "source": [
        "The **Data_processing** function is the main function. As a parameter, it receives text and two bool values, one of which tells whether the normalization of the text will be done, and the other which tells whether stopwords will be removed from the text.\n",
        "The function first divides the text into sentences. If normalization is done, the functions Get_lowercase_text, Remove_useless_symbols and Stem are called in order. If it is necessary to remove stopwords from the text, the Remove_stopwords function will be called.\n",
        "At the end, the function returns a list of sentences modified according to the appropriate requirements."
      ],
      "metadata": {
        "id": "5ULdmxGYZ0YE"
      }
    },
    {
      "cell_type": "code",
      "source": [
        "def Data_processing(text, stopwrds, norm):\n",
        "    sentences = Text_to_sentences(text)\n",
        "    \n",
        "    if norm:\n",
        "        sentences = [Get_lowercase_text(sent) for sent in sentences]\n",
        "        sentences = [Remove_useless_symbols(sent) for sent in sentences]\n",
        "        sentences = [Stem(sent) for sent in sentences]\n",
        "    \n",
        "    if stopwrds:\n",
        "        sentences = [Remove_stopwords(sent) for sent in sentences]\n",
        "    \n",
        "    return sentences"
      ],
      "metadata": {
        "id": "ljWXDUSMZ0IN"
      },
      "execution_count": 9,
      "outputs": []
    },
    {
      "cell_type": "markdown",
      "source": [
        "The **Processing_folder** function creates a new folder for each section. In that folder, it creates a txt file for each article and saves the modified text of the article in it."
      ],
      "metadata": {
        "id": "ue66Cb8SZ4Gy"
      }
    },
    {
      "cell_type": "code",
      "source": [
        "def Processing_folder(section, stopwrds, norm):\n",
        "    folder = f\"./{section}\"\n",
        "    for file in os.listdir(folder):\n",
        "        with open(os.path.join(folder, file), \"r\") as f:\n",
        "            text = f.read()\n",
        "        \n",
        "        sentences = Data_processing(text, stopwrds, norm)\n",
        "        \n",
        "        path = f\"./{section}_processed\"\n",
        "        if not os.path.exists(path):\n",
        "            os.makedirs(path)\n",
        "        \n",
        "        with open(f\"{path}/{file[:-4]}_processed.txt\", \"w\") as f:\n",
        "            for sentence in sentences:\n",
        "                f.write(f\"{sentence}\\n\")"
      ],
      "metadata": {
        "id": "kn94p384Z3zR"
      },
      "execution_count": 10,
      "outputs": []
    },
    {
      "cell_type": "markdown",
      "source": [
        "## Descriptive statistics"
      ],
      "metadata": {
        "id": "PsQiN__N7_LC"
      }
    },
    {
      "cell_type": "markdown",
      "source": [
        "The **Read** function receives one of four sections as a parameter. For each modified article (txt file inside the processed folder) it retrieves the number of occurrences. In addition, it also creates a list of all occurrences (one list that includes occurrences from all articles / txt files)"
      ],
      "metadata": {
        "id": "395NxU7KbLdM"
      }
    },
    {
      "cell_type": "code",
      "source": [
        "def Read(section):\n",
        "    websites = dict()\n",
        "    occurrences = list()\n",
        "\n",
        "    folder = f\"./{section}_processed\"\n",
        "    for file in os.listdir(folder):\n",
        "        with open(os.path.join(folder, file), \"r\") as f:\n",
        "            text = f.read()\n",
        "\n",
        "        word_counter = len(set(text.split()))\n",
        "        websites[file] = word_counter\n",
        "        occurrences.extend(text.split())\n",
        "    \n",
        "    return websites, occurrences"
      ],
      "metadata": {
        "id": "WCAMrt0BbLOr"
      },
      "execution_count": 11,
      "outputs": []
    },
    {
      "cell_type": "markdown",
      "source": [
        "The **Occurrences_by_files** function receives a dictionary as a parameter. It contains the names of the txt files and the corresponding number of occurrences for each file. The function prints out all files and occurrence numbers and displays this data on the plot."
      ],
      "metadata": {
        "id": "tCWKZtvrbK6Z"
      }
    },
    {
      "cell_type": "code",
      "source": [
        "def Occurrences_by_files(websites):\n",
        "    print(\"Number of occurrences at the file level \\n\")\n",
        "    \n",
        "    occurrences_counter = list(websites.values())\n",
        "\n",
        "    keys = sorted(websites.keys())\n",
        "    for key in keys:\n",
        "        print(key, \": \", websites[key])\n",
        "    print()\n",
        "\n",
        "    plt.hist(occurrences_counter)\n",
        "    plt.show()\n",
        "\n",
        "    return occurrences_counter"
      ],
      "metadata": {
        "id": "g7cO-wTSbKrf"
      },
      "execution_count": 12,
      "outputs": []
    },
    {
      "cell_type": "markdown",
      "source": [
        "The **Statistics_by_file** function receives as a parameter a list containing the occurrence numbers of all files. Prints the minimum and maximum number of occurrences and the standard deviation, mean and median."
      ],
      "metadata": {
        "id": "Y4PEM9iMbKai"
      }
    },
    {
      "cell_type": "code",
      "source": [
        "def Statistics_by_file(occurrences_counter, websites):\n",
        "    print(\"Statistics at the file level \\n\")\n",
        "\n",
        "    mn = min(occurrences_counter)\n",
        "    print(\"Minimum: \", mn, \" - \", list(websites.keys())[list(websites.values()).index(mn)])\n",
        "\n",
        "    mx = max(occurrences_counter)\n",
        "    print(\"Maximum: \", mx, \" - \", list(websites.keys())[list(websites.values()).index(mx)])\n",
        "\n",
        "    print(\"Standard deviation: \", round(np.std(occurrences_counter), 2))\n",
        "    print(\"Mean: \", round(np.mean(occurrences_counter), 2))\n",
        "    print(\"Median: \", round(np.median(occurrences_counter), 2))"
      ],
      "metadata": {
        "id": "CvJsndkZbKMx"
      },
      "execution_count": 13,
      "outputs": []
    },
    {
      "cell_type": "markdown",
      "source": [
        "The **Statistics_by_occurrences** function receives a list of all occurrences (occurrences from all txt files) as a parameter. Prints the minimum and maximum number of occurrences of a given occurrence, standard deviation, mean and median."
      ],
      "metadata": {
        "id": "qFg9HK3_bJ8o"
      }
    },
    {
      "cell_type": "code",
      "source": [
        "def Statistics_by_occurrences(occurrences):\n",
        "    print(\"Statistics at the occurrences level \\n\")\n",
        "    occurrence_freq = dict()\n",
        "    for occurrence in occurrences:\n",
        "        occurrence_freq[occurrence] = occurrence_freq.get(occurrence, 0) + 1\n",
        "    \n",
        "    occurrence_freq = sorted(list(occurrence_freq.items()), key=lambda x : x[1])\n",
        "    occurrence_freq_values = [fp[1] for fp in occurrence_freq]\n",
        "\n",
        "    print(\"Minimum: \", min(occurrence_freq_values))\n",
        "    print(\"Maximum: \", max(occurrence_freq_values))\n",
        "    print(\"Standard deviation: \", round(np.std(occurrence_freq_values), 2))\n",
        "    print(\"Mean: \", round(np.mean(occurrence_freq_values), 2))\n",
        "    print(\"Median: \", round(np.median(occurrence_freq_values), 2))\n",
        "\n",
        "    return occurrence_freq"
      ],
      "metadata": {
        "id": "hW3jPn8zbJvX"
      },
      "execution_count": 14,
      "outputs": []
    },
    {
      "cell_type": "markdown",
      "source": [
        "The function **Most_frequently** receives a dictionary of occurrence frequencies as a parameter. It contains occurrences as keys and the corresponding number of total occurrences in all txt files. It prints the ten occurrences that appear the most number of times."
      ],
      "metadata": {
        "id": "xnTNeDWGbJea"
      }
    },
    {
      "cell_type": "code",
      "source": [
        "def Most_frequent(occurrence_freq):\n",
        "    print(\"Ten most frequent occurrences \\n\")\n",
        "\n",
        "    mf = occurrence_freq[-10:]\n",
        "    for i in range(len(mf)-1, -1, -1):\n",
        "        print(mf[i][0], \": \", mf[i][1])"
      ],
      "metadata": {
        "id": "wSOysOrkbJOh"
      },
      "execution_count": 15,
      "outputs": []
    },
    {
      "cell_type": "markdown",
      "source": [
        "The function **Least_frequent** receives a dictionary of occurrence frequencies as a parameter. It contains occurrences as keys and the corresponding number of total occurrences in all txt files. It prints the ten occurrences that appear the least number of times."
      ],
      "metadata": {
        "id": "5at8de2cbH2w"
      }
    },
    {
      "cell_type": "code",
      "source": [
        "def Least_frequent(occurrence_freq):\n",
        "    print(\"Ten least frequent occurrences \\n\")\n",
        "\n",
        "    lf = occurrence_freq[:10]\n",
        "    for occurrence in lf:\n",
        "        print(occurrence[0], \": \", occurrence[1])"
      ],
      "metadata": {
        "id": "4Xb3vu2HbIkW"
      },
      "execution_count": 16,
      "outputs": []
    },
    {
      "cell_type": "markdown",
      "source": [
        "## Creating model and evaluation"
      ],
      "metadata": {
        "id": "i44fJXOD7_B6"
      }
    },
    {
      "cell_type": "markdown",
      "source": [
        "The function **Make_csv** receives as a parameter the title to be assigned to the CSV file. It creates a CSV file and saves the text of the articles in it. Each line of the file contains two pieces of data. The first is the name of the section, and the second is the modified text of the article (txt file inside the processed folder). <br>\n",
        "**It is not necessary to run this part if you want to use a dataset we already have, because this step will overwrite the existing one.**"
      ],
      "metadata": {
        "id": "jIrbDMLbkVIF"
      }
    },
    {
      "cell_type": "code",
      "source": [
        "def Make_csv(title):\n",
        "    path = f\"./datasets\"\n",
        "    if not os.path.exists(path):\n",
        "        os.makedirs(path)\n",
        "    \n",
        "    header = [\"section\", \"text\"]\n",
        "    with open(os.path.join(path, title), \"w\", encoding=\"UTF8\", newline=\"\") as c:\n",
        "        writer = csv.writer(c)\n",
        "        writer.writerow(header)\n",
        "        for section in sections:\n",
        "            folder = f\"./{section}_processed\"\n",
        "            for file in os.listdir(folder):\n",
        "                with open(os.path.join(folder, file), \"r\") as f:\n",
        "                    text = f.read()\n",
        "                row = [section, text]\n",
        "                writer.writerow(row)"
      ],
      "metadata": {
        "id": "JyLSQAicisAS"
      },
      "execution_count": 17,
      "outputs": []
    },
    {
      "cell_type": "markdown",
      "source": [
        "Creating our train_test_split function. <br>\n",
        "It splits dataset into random train and test subsets."
      ],
      "metadata": {
        "id": "KK57BxjPtuUS"
      }
    },
    {
      "cell_type": "code",
      "source": [
        "def My_train_test_split(X, y, test_size, random_state):\n",
        "    np.random.seed(random_state)\n",
        "    mask = np.random.rand(len(X)) < test_size\n",
        "    X_train = X[mask]\n",
        "    y_train = y[mask]\n",
        "    X_test = X[~mask]\n",
        "    y_test = y[~mask]\n",
        "    return X_train, X_test, y_train, y_test"
      ],
      "metadata": {
        "id": "3iKSsoXNDaXy"
      },
      "execution_count": 18,
      "outputs": []
    },
    {
      "cell_type": "markdown",
      "source": [
        "Creating our CountVectorizer function. <br>\n",
        "It converts a collection of text documents to a matrix of token counts."
      ],
      "metadata": {
        "id": "Rwf433E3txlV"
      }
    },
    {
      "cell_type": "code",
      "source": [
        "def CountVectorize_fit(X):\n",
        "    uniques = set()\n",
        "    for i in range(len(X)):\n",
        "        uniques |= set(np.unique(X[i].split()))\n",
        "    D = dict()\n",
        "    vocab_size = len(list(uniques))\n",
        "    for i, word in enumerate(list(uniques)):\n",
        "        D[word] = i\n",
        "    Xv= []\n",
        "    for i in range(len(X)):\n",
        "        xv = np.zeros(shape = (vocab_size))\n",
        "        for word in X[i].split():\n",
        "            xv[D[word]] += 1\n",
        "        Xv.append(xv)\n",
        "    return np.array(Xv), D\n",
        "\n",
        "def CountVectorize_get(X, D):\n",
        "    Xv= []\n",
        "    for i in range(len(X)):\n",
        "        xv = np.zeros(shape = (len(D)))\n",
        "        for word in X[i].split():\n",
        "            if word in D:\n",
        "                xv[D[word]] += 1\n",
        "        Xv.append(xv)\n",
        "    return np.array(Xv)"
      ],
      "metadata": {
        "id": "k1OytEEbDc-a"
      },
      "execution_count": 19,
      "outputs": []
    },
    {
      "cell_type": "markdown",
      "source": [
        "Creating our confusion matrix."
      ],
      "metadata": {
        "id": "lMw-epJfty8v"
      }
    },
    {
      "cell_type": "code",
      "source": [
        "def My_confusion_matrix(y_true, y_predicted):\n",
        "    matrix = []\n",
        "    for i, label_true in enumerate(y_true.unique()):\n",
        "        matrix.append([])\n",
        "        for label_pred in y_true.unique():\n",
        "            cnt = 0\n",
        "            for l in range(len(y_true)):\n",
        "                if y_true[l] == label_true and y_predicted[l] == label_pred:\n",
        "                    cnt += 1\n",
        "            \n",
        "            matrix[i].append(cnt)\n",
        "    return np.array(matrix)"
      ],
      "metadata": {
        "id": "VSyN-pCDDvGl"
      },
      "execution_count": 20,
      "outputs": []
    },
    {
      "cell_type": "markdown",
      "source": [
        "From the confusion matrix, true positive (TP), true negative (TN), false positive (FP) and false negative (FN) values for each class are calculated. True positive (TP) is an outcome where the model correctly predicts the positive class. True Negative (TN) is an outcome where the model correctly predicts the negative class. False Positive (FP) is an outcome where the model incorrectly predicts the positive class. False Negative (FN) is an outcome where the model incorrectly predicts the negative class."
      ],
      "metadata": {
        "id": "4MnxVPILErxW"
      }
    },
    {
      "cell_type": "code",
      "source": [
        "def Get_true_false_values(matrix):\n",
        "    TP, FP, TN, FN = [], [], [], []\n",
        "    for i in range(len(sections)):\n",
        "        tp, fp, tn, fn = 0, 0, 0, 0\n",
        "\n",
        "        for r in range(len(sections)):\n",
        "            for c in range(len(sections)):\n",
        "                if r == c and r == i:\n",
        "                    tp = matrix[r][c]\n",
        "                elif c == i and r != i:\n",
        "                    fp += matrix[r][c]\n",
        "                elif r == i and c != i:\n",
        "                    fn += matrix[r][c]\n",
        "                else:\n",
        "                    tn += matrix[r][c]\n",
        "        \n",
        "        TP.append(tp)\n",
        "        FP.append(fp)\n",
        "        TN.append(tn)\n",
        "        FN.append(fn)\n",
        "    \n",
        "    return TP, FP, TN, FN"
      ],
      "metadata": {
        "id": "GI-Yvvo7D9rL"
      },
      "execution_count": 21,
      "outputs": []
    },
    {
      "cell_type": "markdown",
      "source": [
        "Precision, recall and f1 score are calculated for each class separately. <br>\n",
        "The precision (P) is basically defined as the ratio of correctly predicted positive classes to all predicted positive classes. It can be expressed mathematically as: $P=\\frac{TP}{TP + FP}$. <br>\n",
        "The recall (R) is simply defined as a ratio of correctly predicted positive classes to all actually existing positive classes. It can be expressed mathematically as: $R=\\frac{TP}{TP + FN}$. <br>\n",
        "Combining precision and recall into a single metric is known as the f1-score. It's simply $f1=\\frac{P \\times R}{P + R}$."
      ],
      "metadata": {
        "id": "3VN-pxQUEK2H"
      }
    },
    {
      "cell_type": "code",
      "source": [
        "def Get_precission_recall_f1(TP, FP, FN):\n",
        "    P, R, F1 = [], [], []\n",
        "    for i in range(len(sections)):\n",
        "        p = TP[i] / (TP[i] + FP[i])\n",
        "        r = TP[i] / (TP[i] + FN[i])\n",
        "        f1 = 2 * ((p * r) / (p + r))\n",
        "\n",
        "        P.append(p)\n",
        "        R.append(r)\n",
        "        F1.append(f1)\n",
        "\n",
        "        print(sections[i])\n",
        "        print(\"Precision: \", round(p * 100, 2))\n",
        "        print(\"Recall: \", round(r * 100, 2))\n",
        "        print(\"F1 score: \", round(f1 * 100, 2))\n",
        "        print()\n",
        "    \n",
        "    return P, R, F1"
      ],
      "metadata": {
        "id": "lkGR6cooEJ-u"
      },
      "execution_count": 22,
      "outputs": []
    },
    {
      "cell_type": "markdown",
      "source": [
        "Macro precision, micro precision, macro recall, micro recall, macro f1-score, micro f1-score are calculated for all classes. <br>\n",
        "Macro-averaged metrics are used when we want to evaluate system performance across different classes. <br>\n",
        "Micro-averaged metrics should be used when the size of classes are variable. <br>\n",
        "In the case when we have four classes (A, B, C, D), the formulas for calculating these values are as follows: <br><br>\n",
        "$$MaP = \\frac{P_A + P_B + P_C + P_D}{4}$$ <br>\n",
        "$$MiP = \\frac{TP_A + TP_B + TP_C + TP_D}{TP_A + FP_A + TP_B + FP_B + TP_C + FP_C + TP_D + FP_D}$$ <br>\n",
        "$$MaR = \\frac{R_A + R_B + R_C + R_D}{4}$$ <br>\n",
        "$$MiR = \\frac{TP_A + TP_B + TP_C + TP_D}{TP_A + FN_A + TP_B + FN_B + TP_C + FN_C + TP_D + FN_D}$$ <br>\n",
        "$$MaF1 = 2 \\times \\frac{MaP * MaR}{MaP + MaR}$$ <br>\n",
        "$$MiF1 = 2 \\times \\frac{MiP * MiR}{MiP + MiR}$$"
      ],
      "metadata": {
        "id": "D9xohf9YEeOr"
      }
    },
    {
      "cell_type": "code",
      "source": [
        "def Get_macro_micro_values(TP, FP, FN, P, R):\n",
        "    MaP = (P[0] + P[1] + P[2] + P[3]) / 4\n",
        "    MiP = (TP[0] + TP[1] + TP[2] + TP[3]) / (TP[0] + FP[0] + TP[1] + FP[1] + TP[2] + FP[2] + TP[3] + FP[3])\n",
        "    \n",
        "    MaR = (R[0] + R[1] + R[2] + R[3]) / 4\n",
        "    MiR = (TP[0] + TP[1] + TP[2] + TP[3]) / (TP[0] + FN[0] + TP[1] + FN[1] + TP[2] + FN[2] + TP[3] + FN[3])\n",
        "    \n",
        "    MaF1 = 2 * ((MaP * MaR) / (MaP + MaR))\n",
        "    MiF1 = 2 * ((MiP * MiR) / (MiP + MiR))\n",
        "    \n",
        "    print(\"Macro precision: \", round(MaP * 100, 2))\n",
        "    print(\"Micro precision: \", round(MiP * 100, 2))\n",
        "    \n",
        "    print(\"Macro recall: \", round(MaR * 100, 2))\n",
        "    print(\"Micro recall: \", round(MiR * 100, 2))\n",
        "    \n",
        "    print(\"Macro F1 score: \", round(MaF1 * 100, 2))\n",
        "    print(\"Micro F1 score: \", round(MiF1 * 100, 2))\n",
        "\n",
        "    return MaP, MiP, MaR, MiR, MaF1, MiF1"
      ],
      "metadata": {
        "id": "gFKScR33ENMH"
      },
      "execution_count": 23,
      "outputs": []
    },
    {
      "cell_type": "markdown",
      "source": [
        "My multinomialNB classifier without sklearn"
      ],
      "metadata": {
        "id": "Wb7laAR_wkk0"
      }
    },
    {
      "cell_type": "code",
      "source": [
        "class MyMultinomialNB:\n",
        "    def __init__(self, alpha=1):\n",
        "        self.alpha = alpha \n",
        "    \n",
        "    def fit(self, X_train, y_train):\n",
        "        m, n = X_train.shape\n",
        "        self._classes = np.unique(y_train)\n",
        "        n_classes = len(self._classes)\n",
        "        \n",
        "        self._priors = np.zeros(n_classes)\n",
        "        self._likelihoods = np.zeros((n_classes, n))\n",
        "        \n",
        "        for idx, c in enumerate(self._classes):\n",
        "            X_train_c = X_train[c == y_train]\n",
        "            self._priors[idx] = X_train_c.shape[0] / m \n",
        "            self._likelihoods[idx, :] = ((X_train_c.sum(axis=0)) + self.alpha) / (np.sum(X_train_c.sum(axis=0) + self.alpha))\n",
        "    \n",
        "    def predict(self, X_test):\n",
        "        return [self._predict(x_test) for x_test in X_test]\n",
        "    \n",
        "    def _predict(self, x_test):\n",
        "        posteriors = []\n",
        "        for idx, c in enumerate(self._classes):\n",
        "            prior_c = np.log(self._priors[idx])\n",
        "            likelihoods_c = self.calc_likelihood(self._likelihoods[idx,:], x_test)\n",
        "            posteriors_c = np.sum(likelihoods_c) + prior_c\n",
        "            posteriors.append(posteriors_c)\n",
        "        \n",
        "        return self._classes[np.argmax(posteriors)]\n",
        "    \n",
        "    def calc_likelihood(self, cls_likeli, x_test):\n",
        "        return np.log(cls_likeli) * x_test\n",
        "    \n",
        "    def score(self, X_test, y_test):\n",
        "        y_pred = self.predict(X_test)\n",
        "        \n",
        "        return np.sum(y_pred == y_test)/len(y_test)"
      ],
      "metadata": {
        "id": "tBvbz-9UvcXe"
      },
      "execution_count": 24,
      "outputs": []
    },
    {
      "cell_type": "markdown",
      "source": [
        "The **Make_model** function receives the dataset containing the data as a parameter. First, it reads that dataset, divides the data into a training set and a testing set, and creates a Naive Bayes classifier model.\n",
        "Model evaluation is done using precision, recall and f1 score for each class. In addition, micro and macro precision, micro and macro recall and micro and macro f1 score values are also calculated."
      ],
      "metadata": {
        "id": "vQB2Lt-akUl-"
      }
    },
    {
      "cell_type": "code",
      "source": [
        "def Make_model(dataset):\n",
        "    path = f\"./datasets\"\n",
        "    df = pd.read_csv(os.path.join(path, dataset))\n",
        "\n",
        "    X_train, X_test, y_train, y_test = My_train_test_split(df.text, df.section, test_size=0.35, random_state=90)\n",
        "\n",
        "    X_train_count, D = CountVectorize_fit(X_train.values)\n",
        "    X_test_count = CountVectorize_get(X_test.values, D)\n",
        "\n",
        "\n",
        "    model = MyMultinomialNB()\n",
        "    model.fit(X_train_count, y_train)\n",
        "\n",
        "    y_pred = model.predict(X_test_count)\n",
        "    y_test = y_test.array\n",
        "\n",
        "    acc = model.score(X_test_count, y_test)\n",
        "    print(\"Model accuracy: \", round(acc * 100, 2))\n",
        "    print()\n",
        "\n",
        "    matrix = My_confusion_matrix(y_test, y_pred)\n",
        "    print(matrix)\n",
        "    print()\n",
        "    \n",
        "    TP, FP, TN, FN = Get_true_false_values(matrix)\n",
        "    P, R, F1 = Get_precission_recall_f1(TP, FP, FN)\n",
        "    MaP, MiP, MaR, MiR, MaF1, MiF1 = Get_macro_micro_values(TP, FP, FN, P, R)"
      ],
      "metadata": {
        "id": "7sWvUhk5MqEj"
      },
      "execution_count": 25,
      "outputs": []
    },
    {
      "cell_type": "markdown",
      "source": [
        "# Data collection"
      ],
      "metadata": {
        "id": "tHyiOQtA7-kw"
      }
    },
    {
      "cell_type": "markdown",
      "source": [
        "The following code cell is used to call the data collection functions. <br>\n",
        "**Don't run this part if you want to use a dataset we already have, because this step will overwrite the existing one.**"
      ],
      "metadata": {
        "id": "GuKVdAuVxp8n"
      }
    },
    {
      "cell_type": "code",
      "source": [
        "excess = [12, 12, 11, 6]\n",
        "for i in range(len(sections)):\n",
        "    Get_data(sections[i], excess[i])"
      ],
      "metadata": {
        "id": "rfjs7ysxKncB"
      },
      "execution_count": null,
      "outputs": []
    },
    {
      "cell_type": "markdown",
      "source": [
        "# No stopwords and no normalization"
      ],
      "metadata": {
        "id": "kNm5s5uB7-K_"
      }
    },
    {
      "cell_type": "code",
      "source": [
        "for section in sections:\n",
        "    Processing_folder(section, False, False)"
      ],
      "metadata": {
        "id": "0V8zWs8hyOLX"
      },
      "execution_count": 28,
      "outputs": []
    },
    {
      "cell_type": "markdown",
      "source": [
        "## Descriptive statistics"
      ],
      "metadata": {
        "id": "HDR7xr-l5l83"
      }
    },
    {
      "cell_type": "markdown",
      "source": [
        "### Culture"
      ],
      "metadata": {
        "id": "zftiLd2U7-A0"
      }
    },
    {
      "cell_type": "code",
      "source": [
        "websites, occurrences = Read(\"culture\")"
      ],
      "metadata": {
        "id": "wze1BUytzhXo"
      },
      "execution_count": 29,
      "outputs": []
    },
    {
      "cell_type": "code",
      "source": [
        "occurrences_counter = Occurrences_by_files(websites)"
      ],
      "metadata": {
        "colab": {
          "base_uri": "https://localhost:8080/",
          "height": 491
        },
        "id": "pgabvB7J0C55",
        "outputId": "0a8155fe-1062-42e3-fd5a-81c6d15bb63d"
      },
      "execution_count": 30,
      "outputs": [
        {
          "output_type": "stream",
          "name": "stdout",
          "text": [
            "Number of occurrences at the file level \n",
            "\n",
            "0_processed.txt :  933\n",
            "1_processed.txt :  1062\n",
            "2_processed.txt :  1009\n",
            "3_processed.txt :  501\n",
            "4_processed.txt :  1036\n",
            "5_processed.txt :  1010\n",
            "6_processed.txt :  897\n",
            "7_processed.txt :  952\n",
            "8_processed.txt :  1074\n",
            "9_processed.txt :  721\n",
            "\n"
          ]
        },
        {
          "output_type": "display_data",
          "data": {
            "text/plain": [
              "<Figure size 432x288 with 1 Axes>"
            ],
            "image/png": "[encoded data removed]"
          },
          "metadata": {
            "needs_background": "light"
          }
        }
      ]
    },
    {
      "cell_type": "code",
      "source": [
        "Statistics_by_file(occurrences_counter, websites)"
      ],
      "metadata": {
        "colab": {
          "base_uri": "https://localhost:8080/"
        },
        "id": "SEz-ZJXF0WTR",
        "outputId": "9b8fd55d-09de-4cb4-dac2-795eb7d02e8b"
      },
      "execution_count": 31,
      "outputs": [
        {
          "output_type": "stream",
          "name": "stdout",
          "text": [
            "Statistics at the file level \n",
            "\n",
            "Minimum:  501  -  3_processed.txt\n",
            "Maximum:  1074  -  8_processed.txt\n",
            "Standard deviation:  170.36\n",
            "Mean:  919.5\n",
            "Median:  980.5\n"
          ]
        }
      ]
    },
    {
      "cell_type": "code",
      "source": [
        "occurrence_freq = Statistics_by_occurrences(occurrences)"
      ],
      "metadata": {
        "colab": {
          "base_uri": "https://localhost:8080/"
        },
        "id": "YsmB93NS0s8A",
        "outputId": "82120818-c02f-433a-916c-1b57d439e728"
      },
      "execution_count": 32,
      "outputs": [
        {
          "output_type": "stream",
          "name": "stdout",
          "text": [
            "Statistics at the occurrences level \n",
            "\n",
            "Minimum:  1\n",
            "Maximum:  840\n",
            "Standard deviation:  19.26\n",
            "Mean:  3.0\n",
            "Median:  1.0\n"
          ]
        }
      ]
    },
    {
      "cell_type": "code",
      "source": [
        "Most_frequent(occurrence_freq)"
      ],
      "metadata": {
        "colab": {
          "base_uri": "https://localhost:8080/"
        },
        "id": "UewW93Er0uxO",
        "outputId": "558ddc80-88b6-4281-d1f4-9514bc0eee1f"
      },
      "execution_count": 33,
      "outputs": [
        {
          "output_type": "stream",
          "name": "stdout",
          "text": [
            "Ten most frequent occurrences \n",
            "\n",
            "the :  840\n",
            "of :  584\n",
            "and :  545\n",
            "a :  520\n",
            "to :  428\n",
            "in :  357\n",
            "is :  202\n",
            "that :  186\n",
            "as :  172\n",
            "for :  156\n"
          ]
        }
      ]
    },
    {
      "cell_type": "code",
      "source": [
        "Least_frequent(occurrence_freq)"
      ],
      "metadata": {
        "colab": {
          "base_uri": "https://localhost:8080/"
        },
        "id": "NaBZ9gwR1I1G",
        "outputId": "f1a788a5-920b-4468-f5f1-8767ecbd48bd"
      },
      "execution_count": 34,
      "outputs": [
        {
          "output_type": "stream",
          "name": "stdout",
          "text": [
            "Ten least frequent occurrences \n",
            "\n",
            "\"How :  1\n",
            "lived, :  1\n",
            "death!\" :  1\n",
            "Janet :  1\n",
            "Flanner :  1\n",
            "1967. :  1\n",
            "century :  1\n",
            "later, :  1\n",
            "week :  1\n",
            "sees :  1\n"
          ]
        }
      ]
    },
    {
      "cell_type": "markdown",
      "source": [
        "### Future"
      ],
      "metadata": {
        "id": "djDoqEVD792H"
      }
    },
    {
      "cell_type": "code",
      "source": [
        "websites, occurrences = Read(\"future\")"
      ],
      "metadata": {
        "id": "rhVSU3SRzrop"
      },
      "execution_count": 35,
      "outputs": []
    },
    {
      "cell_type": "code",
      "source": [
        "occurrences_counter = Occurrences_by_files(websites)"
      ],
      "metadata": {
        "colab": {
          "base_uri": "https://localhost:8080/",
          "height": 664
        },
        "id": "mMUbKtsY0Dkl",
        "outputId": "654b3904-b825-4cad-ce97-41f3957f604c"
      },
      "execution_count": 36,
      "outputs": [
        {
          "output_type": "stream",
          "name": "stdout",
          "text": [
            "Number of occurrences at the file level \n",
            "\n",
            "0_processed.txt :  316\n",
            "10_processed.txt :  1007\n",
            "11_processed.txt :  831\n",
            "12_processed.txt :  1771\n",
            "13_processed.txt :  880\n",
            "14_processed.txt :  940\n",
            "15_processed.txt :  703\n",
            "16_processed.txt :  761\n",
            "17_processed.txt :  1050\n",
            "18_processed.txt :  738\n",
            "19_processed.txt :  1070\n",
            "1_processed.txt :  785\n",
            "2_processed.txt :  1016\n",
            "3_processed.txt :  782\n",
            "4_processed.txt :  982\n",
            "5_processed.txt :  1038\n",
            "6_processed.txt :  1262\n",
            "7_processed.txt :  856\n",
            "8_processed.txt :  737\n",
            "9_processed.txt :  1032\n",
            "\n"
          ]
        },
        {
          "output_type": "display_data",
          "data": {
            "text/plain": [
              "<Figure size 432x288 with 1 Axes>"
            ],
            "image/png": "[encoded data removed]"
          },
          "metadata": {
            "needs_background": "light"
          }
        }
      ]
    },
    {
      "cell_type": "code",
      "source": [
        "Statistics_by_file(occurrences_counter, websites)"
      ],
      "metadata": {
        "colab": {
          "base_uri": "https://localhost:8080/"
        },
        "id": "IJc1Zgea0XGP",
        "outputId": "710394f3-8054-41c2-b801-bd4491821d7d"
      },
      "execution_count": 37,
      "outputs": [
        {
          "output_type": "stream",
          "name": "stdout",
          "text": [
            "Statistics at the file level \n",
            "\n",
            "Minimum:  316  -  0_processed.txt\n",
            "Maximum:  1771  -  12_processed.txt\n",
            "Standard deviation:  272.17\n",
            "Mean:  927.85\n",
            "Median:  910.0\n"
          ]
        }
      ]
    },
    {
      "cell_type": "code",
      "source": [
        "occurrence_freq = Statistics_by_occurrences(occurrences)"
      ],
      "metadata": {
        "colab": {
          "base_uri": "https://localhost:8080/"
        },
        "id": "bs8EwZQE0sS3",
        "outputId": "50fd5243-13b5-4b04-9795-3f863dfa2fec"
      },
      "execution_count": 38,
      "outputs": [
        {
          "output_type": "stream",
          "name": "stdout",
          "text": [
            "Statistics at the occurrences level \n",
            "\n",
            "Minimum:  1\n",
            "Maximum:  1892\n",
            "Standard deviation:  32.78\n",
            "Mean:  4.08\n",
            "Median:  1.0\n"
          ]
        }
      ]
    },
    {
      "cell_type": "code",
      "source": [
        "Most_frequent(occurrence_freq)"
      ],
      "metadata": {
        "colab": {
          "base_uri": "https://localhost:8080/"
        },
        "id": "NqsYierO0viG",
        "outputId": "20545f80-5d75-4501-c652-90f4801a75c0"
      },
      "execution_count": 39,
      "outputs": [
        {
          "output_type": "stream",
          "name": "stdout",
          "text": [
            "Ten most frequent occurrences \n",
            "\n",
            "the :  1892\n",
            "of :  1191\n",
            "to :  1169\n",
            "and :  1005\n",
            "a :  905\n",
            "in :  772\n",
            "that :  529\n",
            "is :  420\n",
            "for :  339\n",
            "with :  309\n"
          ]
        }
      ]
    },
    {
      "cell_type": "code",
      "source": [
        "Least_frequent(occurrence_freq)"
      ],
      "metadata": {
        "colab": {
          "base_uri": "https://localhost:8080/"
        },
        "id": "QsmZTHVy1H-Y",
        "outputId": "a191bd96-430c-40f8-d80e-520a13779fe0"
      },
      "execution_count": 40,
      "outputs": [
        {
          "output_type": "stream",
          "name": "stdout",
          "text": [
            "Ten least frequent occurrences \n",
            "\n",
            "glance, :  1\n",
            "boring :  1\n",
            "stuff, :  1\n",
            "merely :  1\n",
            "convenient :  1\n",
            "moisten :  1\n",
            "understand. :  1\n",
            "interacts :  1\n",
            "enters :  1\n",
            "99% :  1\n"
          ]
        }
      ]
    },
    {
      "cell_type": "markdown",
      "source": [
        "### Travel"
      ],
      "metadata": {
        "id": "46GNahPt79rF"
      }
    },
    {
      "cell_type": "code",
      "source": [
        "websites, occurrences = Read(\"travel\")"
      ],
      "metadata": {
        "id": "QuqUsS_XzvDo"
      },
      "execution_count": 41,
      "outputs": []
    },
    {
      "cell_type": "code",
      "source": [
        "occurrences_counter = Occurrences_by_files(websites)"
      ],
      "metadata": {
        "colab": {
          "base_uri": "https://localhost:8080/",
          "height": 630
        },
        "id": "kzHq7HzR0EIy",
        "outputId": "96ad9782-3b5c-4808-bc7e-681b5181cc29"
      },
      "execution_count": 42,
      "outputs": [
        {
          "output_type": "stream",
          "name": "stdout",
          "text": [
            "Number of occurrences at the file level \n",
            "\n",
            "0_processed.txt :  835\n",
            "10_processed.txt :  851\n",
            "11_processed.txt :  743\n",
            "12_processed.txt :  825\n",
            "13_processed.txt :  808\n",
            "14_processed.txt :  815\n",
            "15_processed.txt :  830\n",
            "16_processed.txt :  821\n",
            "17_processed.txt :  807\n",
            "1_processed.txt :  777\n",
            "2_processed.txt :  887\n",
            "3_processed.txt :  951\n",
            "4_processed.txt :  874\n",
            "5_processed.txt :  897\n",
            "6_processed.txt :  994\n",
            "7_processed.txt :  925\n",
            "8_processed.txt :  883\n",
            "9_processed.txt :  1317\n",
            "\n"
          ]
        },
        {
          "output_type": "display_data",
          "data": {
            "text/plain": [
              "<Figure size 432x288 with 1 Axes>"
            ],
            "image/png": "[encoded data removed]"
          },
          "metadata": {
            "needs_background": "light"
          }
        }
      ]
    },
    {
      "cell_type": "code",
      "source": [
        "Statistics_by_file(occurrences_counter, websites)"
      ],
      "metadata": {
        "colab": {
          "base_uri": "https://localhost:8080/"
        },
        "id": "h3AJIX9x0Xu4",
        "outputId": "6e48b465-82f1-436a-da30-c5afa48c5d8f"
      },
      "execution_count": 43,
      "outputs": [
        {
          "output_type": "stream",
          "name": "stdout",
          "text": [
            "Statistics at the file level \n",
            "\n",
            "Minimum:  743  -  11_processed.txt\n",
            "Maximum:  1317  -  9_processed.txt\n",
            "Standard deviation:  121.88\n",
            "Mean:  880.0\n",
            "Median:  843.0\n"
          ]
        }
      ]
    },
    {
      "cell_type": "code",
      "source": [
        "occurrence_freq = Statistics_by_occurrences(occurrences)"
      ],
      "metadata": {
        "colab": {
          "base_uri": "https://localhost:8080/"
        },
        "id": "tBVWBgac0rgG",
        "outputId": "04569d21-f703-4fa0-c389-a6226d2937ae"
      },
      "execution_count": 44,
      "outputs": [
        {
          "output_type": "stream",
          "name": "stdout",
          "text": [
            "Statistics at the occurrences level \n",
            "\n",
            "Minimum:  1\n",
            "Maximum:  1968\n",
            "Standard deviation:  29.91\n",
            "Mean:  3.54\n",
            "Median:  1.0\n"
          ]
        }
      ]
    },
    {
      "cell_type": "code",
      "source": [
        "Most_frequent(occurrence_freq)"
      ],
      "metadata": {
        "colab": {
          "base_uri": "https://localhost:8080/"
        },
        "id": "OBjw063B0wKy",
        "outputId": "0faa8f8d-25e7-4aad-c4f5-91e92f518b18"
      },
      "execution_count": 45,
      "outputs": [
        {
          "output_type": "stream",
          "name": "stdout",
          "text": [
            "Ten most frequent occurrences \n",
            "\n",
            "the :  1968\n",
            "of :  952\n",
            "and :  945\n",
            "to :  808\n",
            "a :  781\n",
            "in :  555\n",
            "is :  304\n",
            "that :  290\n",
            "for :  263\n",
            "on :  238\n"
          ]
        }
      ]
    },
    {
      "cell_type": "code",
      "source": [
        "Least_frequent(occurrence_freq)"
      ],
      "metadata": {
        "colab": {
          "base_uri": "https://localhost:8080/"
        },
        "id": "Wnyd-JPM1Gxn",
        "outputId": "0887cc4f-8f23-44e5-9c65-9e0ee21d0c8f"
      },
      "execution_count": 46,
      "outputs": [
        {
          "output_type": "stream",
          "name": "stdout",
          "text": [
            "Ten least frequent occurrences \n",
            "\n",
            "2021 :  1\n",
            "Farm, :  1\n",
            "attraction :  1\n",
            "Ottawa, :  1\n",
            "Canada. :  1\n",
            "Pibón :  1\n",
            "(winter) :  1\n",
            "Anishinaabe :  1\n",
            "artist :  1\n",
            "tremble :  1\n"
          ]
        }
      ]
    },
    {
      "cell_type": "markdown",
      "source": [
        "### Worklife"
      ],
      "metadata": {
        "id": "BEU-vusz79jr"
      }
    },
    {
      "cell_type": "code",
      "source": [
        "websites, occurrences = Read(\"worklife\")"
      ],
      "metadata": {
        "id": "LG4eZox7z5nT"
      },
      "execution_count": 47,
      "outputs": []
    },
    {
      "cell_type": "code",
      "source": [
        "occurrences_counter = Occurrences_by_files(websites)"
      ],
      "metadata": {
        "colab": {
          "base_uri": "https://localhost:8080/",
          "height": 630
        },
        "id": "3SyP9Nwd0E46",
        "outputId": "5ad57cdb-a581-4887-b168-5012ba9b1db6"
      },
      "execution_count": 48,
      "outputs": [
        {
          "output_type": "stream",
          "name": "stdout",
          "text": [
            "Number of occurrences at the file level \n",
            "\n",
            "0_processed.txt :  231\n",
            "10_processed.txt :  749\n",
            "11_processed.txt :  654\n",
            "12_processed.txt :  782\n",
            "13_processed.txt :  738\n",
            "14_processed.txt :  641\n",
            "15_processed.txt :  718\n",
            "16_processed.txt :  707\n",
            "17_processed.txt :  724\n",
            "1_processed.txt :  690\n",
            "2_processed.txt :  801\n",
            "3_processed.txt :  1186\n",
            "4_processed.txt :  672\n",
            "5_processed.txt :  600\n",
            "6_processed.txt :  840\n",
            "7_processed.txt :  844\n",
            "8_processed.txt :  739\n",
            "9_processed.txt :  914\n",
            "\n"
          ]
        },
        {
          "output_type": "display_data",
          "data": {
            "text/plain": [
              "<Figure size 432x288 with 1 Axes>"
            ],
            "image/png": "[encoded data removed]"
          },
          "metadata": {
            "needs_background": "light"
          }
        }
      ]
    },
    {
      "cell_type": "code",
      "source": [
        "Statistics_by_file(occurrences_counter, websites)"
      ],
      "metadata": {
        "colab": {
          "base_uri": "https://localhost:8080/"
        },
        "id": "tkndFFBp0YTU",
        "outputId": "4cb8f1ab-d57e-4dd0-8425-a317707af8d5"
      },
      "execution_count": 49,
      "outputs": [
        {
          "output_type": "stream",
          "name": "stdout",
          "text": [
            "Statistics at the file level \n",
            "\n",
            "Minimum:  231  -  0_processed.txt\n",
            "Maximum:  1186  -  3_processed.txt\n",
            "Standard deviation:  176.38\n",
            "Mean:  735.0\n",
            "Median:  731.0\n"
          ]
        }
      ]
    },
    {
      "cell_type": "code",
      "source": [
        "occurrence_freq = Statistics_by_occurrences(occurrences)"
      ],
      "metadata": {
        "colab": {
          "base_uri": "https://localhost:8080/"
        },
        "id": "_k-vBmzB0q_P",
        "outputId": "0f91e631-3dfe-473e-f89f-0a332c416bcb"
      },
      "execution_count": 50,
      "outputs": [
        {
          "output_type": "stream",
          "name": "stdout",
          "text": [
            "Statistics at the occurrences level \n",
            "\n",
            "Minimum:  1\n",
            "Maximum:  969\n",
            "Standard deviation:  24.67\n",
            "Mean:  4.04\n",
            "Median:  1.0\n"
          ]
        }
      ]
    },
    {
      "cell_type": "code",
      "source": [
        "Most_frequent(occurrence_freq)"
      ],
      "metadata": {
        "colab": {
          "base_uri": "https://localhost:8080/"
        },
        "id": "YwoOdaey0w75",
        "outputId": "988612fc-b55f-47b5-f329-0352db185532"
      },
      "execution_count": 51,
      "outputs": [
        {
          "output_type": "stream",
          "name": "stdout",
          "text": [
            "Ten most frequent occurrences \n",
            "\n",
            "the :  969\n",
            "to :  831\n",
            "of :  685\n",
            "a :  662\n",
            "and :  652\n",
            "in :  476\n",
            "that :  340\n",
            "for :  310\n",
            "is :  237\n",
            "with :  223\n"
          ]
        }
      ]
    },
    {
      "cell_type": "code",
      "source": [
        "Least_frequent(occurrence_freq)"
      ],
      "metadata": {
        "colab": {
          "base_uri": "https://localhost:8080/"
        },
        "id": "PKSomCiS1GFG",
        "outputId": "fb69802f-d0d5-434e-9611-f0486e20be5f"
      },
      "execution_count": 52,
      "outputs": [
        {
          "output_type": "stream",
          "name": "stdout",
          "text": [
            "Ten least frequent occurrences \n",
            "\n",
            "smarter. :  1\n",
            "better. :  1\n",
            "deeper.Our :  1\n",
            "shifting :  1\n",
            "scale. :  1\n",
            "rethinking :  1\n",
            "value :  1\n",
            "nine-to-five :  1\n",
            "quaint :  1\n",
            "relic :  1\n"
          ]
        }
      ]
    },
    {
      "cell_type": "markdown",
      "source": [
        "## Creating model and evaluation"
      ],
      "metadata": {
        "id": "w0JENtMC79Sf"
      }
    },
    {
      "cell_type": "markdown",
      "source": [
        "The next cell is used to create a dataset (csv file). <br>\n",
        "**Don't run this part if you want to use a dataset we already have, because this step will overwrite the existing one.**"
      ],
      "metadata": {
        "id": "u4JdDnhV26Ug"
      }
    },
    {
      "cell_type": "code",
      "source": [
        "Make_csv(\"dataset.csv\")"
      ],
      "metadata": {
        "id": "ihNw0Z311bgx"
      },
      "execution_count": 53,
      "outputs": []
    },
    {
      "cell_type": "code",
      "source": [
        "Make_model(\"dataset.csv\")"
      ],
      "metadata": {
        "colab": {
          "base_uri": "https://localhost:8080/"
        },
        "id": "wjrIwm2SLuq0",
        "outputId": "2f03bed8-7c37-4745-b532-8d97012ad149"
      },
      "execution_count": 54,
      "outputs": [
        {
          "output_type": "stream",
          "name": "stdout",
          "text": [
            "Model accuracy:  56.0\n",
            "\n",
            "[[ 4  0  0  0]\n",
            " [ 2 14  0  0]\n",
            " [11  5  0  0]\n",
            " [ 3  1  0 10]]\n",
            "\n",
            "culture\n",
            "Precision:  20.0\n",
            "Recall:  100.0\n",
            "F1 score:  33.33\n",
            "\n",
            "future\n",
            "Precision:  70.0\n",
            "Recall:  87.5\n",
            "F1 score:  77.78\n",
            "\n",
            "travel\n",
            "Precision:  nan\n",
            "Recall:  0.0\n",
            "F1 score:  nan\n",
            "\n",
            "worklife\n",
            "Precision:  100.0\n",
            "Recall:  71.43\n",
            "F1 score:  83.33\n",
            "\n",
            "Macro precision:  nan\n",
            "Micro precision:  56.0\n",
            "Macro recall:  64.73\n",
            "Micro recall:  56.0\n",
            "Macro F1 score:  nan\n",
            "Micro F1 score:  56.0\n"
          ]
        },
        {
          "output_type": "stream",
          "name": "stderr",
          "text": [
            "<ipython-input-22-04765982702c>:4: RuntimeWarning: invalid value encountered in long_scalars\n",
            "  p = TP[i] / (TP[i] + FP[i])\n"
          ]
        }
      ]
    },
    {
      "cell_type": "markdown",
      "source": [
        "# With stopwords and no normalization"
      ],
      "metadata": {
        "id": "VDxfW6ph788X"
      }
    },
    {
      "cell_type": "code",
      "source": [
        "for section in sections:\n",
        "    Processing_folder(section, True, False)"
      ],
      "metadata": {
        "id": "e8jVtraoy1CN"
      },
      "execution_count": 55,
      "outputs": []
    },
    {
      "cell_type": "markdown",
      "source": [
        "## Descriptive statistics"
      ],
      "metadata": {
        "id": "1gRRIUtM54LG"
      }
    },
    {
      "cell_type": "markdown",
      "source": [
        "### Culture"
      ],
      "metadata": {
        "id": "ys1yPZW778wI"
      }
    },
    {
      "cell_type": "code",
      "source": [
        "websites, occurrences = Read(\"culture\")"
      ],
      "metadata": {
        "id": "Rd5U3mWfziLa"
      },
      "execution_count": 56,
      "outputs": []
    },
    {
      "cell_type": "code",
      "source": [
        "occurrences_counter = Occurrences_by_files(websites)"
      ],
      "metadata": {
        "colab": {
          "base_uri": "https://localhost:8080/",
          "height": 491
        },
        "id": "X71G9uVs0HCP",
        "outputId": "a127c19f-e8f5-4772-d639-a358dfbe0909"
      },
      "execution_count": 57,
      "outputs": [
        {
          "output_type": "stream",
          "name": "stdout",
          "text": [
            "Number of occurrences at the file level \n",
            "\n",
            "0_processed.txt :  854\n",
            "1_processed.txt :  972\n",
            "2_processed.txt :  920\n",
            "3_processed.txt :  434\n",
            "4_processed.txt :  934\n",
            "5_processed.txt :  924\n",
            "6_processed.txt :  818\n",
            "7_processed.txt :  859\n",
            "8_processed.txt :  988\n",
            "9_processed.txt :  640\n",
            "\n"
          ]
        },
        {
          "output_type": "display_data",
          "data": {
            "text/plain": [
              "<Figure size 432x288 with 1 Axes>"
            ],
            "image/png": "[encoded data removed]"
          },
          "metadata": {
            "needs_background": "light"
          }
        }
      ]
    },
    {
      "cell_type": "code",
      "source": [
        "Statistics_by_file(occurrences_counter, websites)"
      ],
      "metadata": {
        "colab": {
          "base_uri": "https://localhost:8080/"
        },
        "id": "hRd0esoa0ZfF",
        "outputId": "3d204652-b493-404d-8904-fb5e5cf9670d"
      },
      "execution_count": 58,
      "outputs": [
        {
          "output_type": "stream",
          "name": "stdout",
          "text": [
            "Statistics at the file level \n",
            "\n",
            "Minimum:  434  -  3_processed.txt\n",
            "Maximum:  988  -  8_processed.txt\n",
            "Standard deviation:  163.45\n",
            "Mean:  834.3\n",
            "Median:  889.5\n"
          ]
        }
      ]
    },
    {
      "cell_type": "code",
      "source": [
        "occurrence_freq = Statistics_by_occurrences(occurrences)"
      ],
      "metadata": {
        "colab": {
          "base_uri": "https://localhost:8080/"
        },
        "id": "Vv1pUHLm0qG1",
        "outputId": "8df4c3bc-75c5-4469-ab86-f8eed3692d2c"
      },
      "execution_count": 59,
      "outputs": [
        {
          "output_type": "stream",
          "name": "stdout",
          "text": [
            "Statistics at the occurrences level \n",
            "\n",
            "Minimum:  1\n",
            "Maximum:  119\n",
            "Standard deviation:  3.33\n",
            "Mean:  1.89\n",
            "Median:  1.0\n"
          ]
        }
      ]
    },
    {
      "cell_type": "code",
      "source": [
        "Most_frequent(occurrence_freq)"
      ],
      "metadata": {
        "colab": {
          "base_uri": "https://localhost:8080/"
        },
        "id": "jJut-prQ0yD_",
        "outputId": "195355e6-32cc-43ee-8132-985795c7120b"
      },
      "execution_count": 60,
      "outputs": [
        {
          "output_type": "stream",
          "name": "stdout",
          "text": [
            "Ten most frequent occurrences \n",
            "\n",
            "The :  119\n",
            "– :  102\n",
            "I :  55\n",
            "like :  49\n",
            "BBC :  41\n",
            "first :  38\n",
            "music :  37\n",
            "one :  36\n",
            "film :  35\n",
            "also :  31\n"
          ]
        }
      ]
    },
    {
      "cell_type": "code",
      "source": [
        "Least_frequent(occurrence_freq)"
      ],
      "metadata": {
        "colab": {
          "base_uri": "https://localhost:8080/"
        },
        "id": "Ns7sHYYL1FKh",
        "outputId": "7781010b-b071-4a64-a68d-70d1badacaf1"
      },
      "execution_count": 61,
      "outputs": [
        {
          "output_type": "stream",
          "name": "stdout",
          "text": [
            "Ten least frequent occurrences \n",
            "\n",
            "\"How :  1\n",
            "lived, :  1\n",
            "death!\" :  1\n",
            "Janet :  1\n",
            "Flanner :  1\n",
            "1967. :  1\n",
            "century :  1\n",
            "later, :  1\n",
            "week :  1\n",
            "sees :  1\n"
          ]
        }
      ]
    },
    {
      "cell_type": "markdown",
      "source": [
        "### Future"
      ],
      "metadata": {
        "id": "MHcAmg9R78kZ"
      }
    },
    {
      "cell_type": "code",
      "source": [
        "websites, occurrences = Read(\"future\")"
      ],
      "metadata": {
        "id": "OF8e1j02zquG"
      },
      "execution_count": 62,
      "outputs": []
    },
    {
      "cell_type": "code",
      "source": [
        "occurrences_counter = Occurrences_by_files(websites)"
      ],
      "metadata": {
        "colab": {
          "base_uri": "https://localhost:8080/",
          "height": 664
        },
        "id": "RyiTghFesiuW",
        "outputId": "0a4c1fa3-6fa5-46bf-c1f1-37909ad35e77"
      },
      "execution_count": 63,
      "outputs": [
        {
          "output_type": "stream",
          "name": "stdout",
          "text": [
            "Number of occurrences at the file level \n",
            "\n",
            "0_processed.txt :  273\n",
            "10_processed.txt :  927\n",
            "11_processed.txt :  746\n",
            "12_processed.txt :  1665\n",
            "13_processed.txt :  801\n",
            "14_processed.txt :  843\n",
            "15_processed.txt :  625\n",
            "16_processed.txt :  675\n",
            "17_processed.txt :  956\n",
            "18_processed.txt :  647\n",
            "19_processed.txt :  989\n",
            "1_processed.txt :  695\n",
            "2_processed.txt :  919\n",
            "3_processed.txt :  696\n",
            "4_processed.txt :  890\n",
            "5_processed.txt :  953\n",
            "6_processed.txt :  1158\n",
            "7_processed.txt :  765\n",
            "8_processed.txt :  656\n",
            "9_processed.txt :  936\n",
            "\n"
          ]
        },
        {
          "output_type": "display_data",
          "data": {
            "text/plain": [
              "<Figure size 432x288 with 1 Axes>"
            ],
            "image/png": "[encoded data removed]"
          },
          "metadata": {
            "needs_background": "light"
          }
        }
      ]
    },
    {
      "cell_type": "code",
      "source": [
        "Statistics_by_file(occurrences_counter, websites)"
      ],
      "metadata": {
        "colab": {
          "base_uri": "https://localhost:8080/"
        },
        "id": "y5BKsSFb0Z-x",
        "outputId": "e039c02f-88cd-4d92-e82a-b05d27f9bb35"
      },
      "execution_count": 64,
      "outputs": [
        {
          "output_type": "stream",
          "name": "stdout",
          "text": [
            "Statistics at the file level \n",
            "\n",
            "Minimum:  273  -  0_processed.txt\n",
            "Maximum:  1665  -  12_processed.txt\n",
            "Standard deviation:  262.63\n",
            "Mean:  840.75\n",
            "Median:  822.0\n"
          ]
        }
      ]
    },
    {
      "cell_type": "code",
      "source": [
        "occurrence_freq = Statistics_by_occurrences(occurrences)"
      ],
      "metadata": {
        "colab": {
          "base_uri": "https://localhost:8080/"
        },
        "id": "zD9gvarN0pe_",
        "outputId": "c5ccc13e-97c3-42dd-f8ef-130d07f5f922"
      },
      "execution_count": 65,
      "outputs": [
        {
          "output_type": "stream",
          "name": "stdout",
          "text": [
            "Statistics at the occurrences level \n",
            "\n",
            "Minimum:  1\n",
            "Maximum:  248\n",
            "Standard deviation:  5.9\n",
            "Mean:  2.5\n",
            "Median:  1.0\n"
          ]
        }
      ]
    },
    {
      "cell_type": "code",
      "source": [
        "Most_frequent(occurrence_freq)"
      ],
      "metadata": {
        "colab": {
          "base_uri": "https://localhost:8080/"
        },
        "id": "rRZvQJkJ0yqQ",
        "outputId": "9b40c96e-7d20-4fbd-fdd4-e7a68b1b3ec3"
      },
      "execution_count": 66,
      "outputs": [
        {
          "output_type": "stream",
          "name": "stdout",
          "text": [
            "Ten most frequent occurrences \n",
            "\n",
            "– :  248\n",
            "says :  186\n",
            "also :  125\n",
            "people :  116\n",
            "one :  110\n",
            "The :  106\n",
            "may :  87\n",
            "many :  82\n",
            "could :  80\n",
            "children :  79\n"
          ]
        }
      ]
    },
    {
      "cell_type": "code",
      "source": [
        "Least_frequent(occurrence_freq)"
      ],
      "metadata": {
        "colab": {
          "base_uri": "https://localhost:8080/"
        },
        "id": "CNxh0v511Eei",
        "outputId": "f3366ca8-bfeb-4b68-9a8c-80ef0bf39705"
      },
      "execution_count": 67,
      "outputs": [
        {
          "output_type": "stream",
          "name": "stdout",
          "text": [
            "Ten least frequent occurrences \n",
            "\n",
            "glance, :  1\n",
            "boring :  1\n",
            "stuff, :  1\n",
            "merely :  1\n",
            "convenient :  1\n",
            "moisten :  1\n",
            "understand. :  1\n",
            "interacts :  1\n",
            "enters :  1\n",
            "99% :  1\n"
          ]
        }
      ]
    },
    {
      "cell_type": "markdown",
      "source": [
        "### Travel"
      ],
      "metadata": {
        "id": "8dmA--0i78Z5"
      }
    },
    {
      "cell_type": "code",
      "source": [
        "websites, occurrences = Read(\"travel\")"
      ],
      "metadata": {
        "id": "7O6AR1a1zwBD"
      },
      "execution_count": 68,
      "outputs": []
    },
    {
      "cell_type": "code",
      "source": [
        "occurrences_counter = Occurrences_by_files(websites)"
      ],
      "metadata": {
        "colab": {
          "base_uri": "https://localhost:8080/",
          "height": 630
        },
        "id": "LpCx_-b10ISK",
        "outputId": "28cd8db9-307b-4779-de90-740d798c0c86"
      },
      "execution_count": 69,
      "outputs": [
        {
          "output_type": "stream",
          "name": "stdout",
          "text": [
            "Number of occurrences at the file level \n",
            "\n",
            "0_processed.txt :  744\n",
            "10_processed.txt :  774\n",
            "11_processed.txt :  673\n",
            "12_processed.txt :  736\n",
            "13_processed.txt :  725\n",
            "14_processed.txt :  735\n",
            "15_processed.txt :  741\n",
            "16_processed.txt :  742\n",
            "17_processed.txt :  720\n",
            "1_processed.txt :  690\n",
            "2_processed.txt :  800\n",
            "3_processed.txt :  860\n",
            "4_processed.txt :  793\n",
            "5_processed.txt :  813\n",
            "6_processed.txt :  907\n",
            "7_processed.txt :  835\n",
            "8_processed.txt :  795\n",
            "9_processed.txt :  1221\n",
            "\n"
          ]
        },
        {
          "output_type": "display_data",
          "data": {
            "text/plain": [
              "<Figure size 432x288 with 1 Axes>"
            ],
            "image/png": "[encoded data removed]"
          },
          "metadata": {
            "needs_background": "light"
          }
        }
      ]
    },
    {
      "cell_type": "code",
      "source": [
        "Statistics_by_file(occurrences_counter, websites)"
      ],
      "metadata": {
        "colab": {
          "base_uri": "https://localhost:8080/"
        },
        "id": "xTuMM-lp0ap5",
        "outputId": "18a05c0c-e459-49c5-c5de-a2c2df4b0d87"
      },
      "execution_count": 70,
      "outputs": [
        {
          "output_type": "stream",
          "name": "stdout",
          "text": [
            "Statistics at the file level \n",
            "\n",
            "Minimum:  673  -  11_processed.txt\n",
            "Maximum:  1221  -  9_processed.txt\n",
            "Standard deviation:  118.43\n",
            "Mean:  794.67\n",
            "Median:  759.0\n"
          ]
        }
      ]
    },
    {
      "cell_type": "code",
      "source": [
        "occurrence_freq = Statistics_by_occurrences(occurrences)"
      ],
      "metadata": {
        "colab": {
          "base_uri": "https://localhost:8080/"
        },
        "id": "nDLEHKnz0oyT",
        "outputId": "65b3cda2-45ca-4e50-d3a9-4facbe93a372"
      },
      "execution_count": 71,
      "outputs": [
        {
          "output_type": "stream",
          "name": "stdout",
          "text": [
            "Statistics at the occurrences level \n",
            "\n",
            "Minimum:  1\n",
            "Maximum:  158\n",
            "Standard deviation:  4.32\n",
            "Mean:  2.24\n",
            "Median:  1.0\n"
          ]
        }
      ]
    },
    {
      "cell_type": "code",
      "source": [
        "Most_frequent(occurrence_freq)"
      ],
      "metadata": {
        "colab": {
          "base_uri": "https://localhost:8080/"
        },
        "id": "HHy9c6Md0zRk",
        "outputId": "086c7c20-7b5b-4584-8730-fead261caf76"
      },
      "execution_count": 72,
      "outputs": [
        {
          "output_type": "stream",
          "name": "stdout",
          "text": [
            "Ten most frequent occurrences \n",
            "\n",
            "I :  158\n",
            "The :  137\n",
            "(Credit: :  99\n",
            "– :  81\n",
            "like :  68\n",
            "one :  61\n",
            "us :  53\n",
            "said :  52\n",
            "people :  50\n",
            "also :  46\n"
          ]
        }
      ]
    },
    {
      "cell_type": "code",
      "source": [
        "Least_frequent(occurrence_freq)"
      ],
      "metadata": {
        "colab": {
          "base_uri": "https://localhost:8080/"
        },
        "id": "zRXzm_Ga1DPK",
        "outputId": "4c7301e7-3071-4dbb-8881-6abe4ee25a9c"
      },
      "execution_count": 73,
      "outputs": [
        {
          "output_type": "stream",
          "name": "stdout",
          "text": [
            "Ten least frequent occurrences \n",
            "\n",
            "2021 :  1\n",
            "Farm, :  1\n",
            "attraction :  1\n",
            "Ottawa, :  1\n",
            "Canada. :  1\n",
            "Pibón :  1\n",
            "(winter) :  1\n",
            "Anishinaabe :  1\n",
            "artist :  1\n",
            "tremble :  1\n"
          ]
        }
      ]
    },
    {
      "cell_type": "markdown",
      "source": [
        "### Worklife"
      ],
      "metadata": {
        "id": "iwK1WHGd78Q6"
      }
    },
    {
      "cell_type": "code",
      "source": [
        "websites, occurrences = Read(\"worklife\")"
      ],
      "metadata": {
        "id": "2ftE2LWbz3QF"
      },
      "execution_count": 74,
      "outputs": []
    },
    {
      "cell_type": "code",
      "source": [
        "occurrences_counter = Occurrences_by_files(websites)"
      ],
      "metadata": {
        "colab": {
          "base_uri": "https://localhost:8080/",
          "height": 630
        },
        "id": "oeOtSxgO0JJ6",
        "outputId": "845939ce-b238-4d77-d145-13813e38160b"
      },
      "execution_count": 75,
      "outputs": [
        {
          "output_type": "stream",
          "name": "stdout",
          "text": [
            "Number of occurrences at the file level \n",
            "\n",
            "0_processed.txt :  190\n",
            "10_processed.txt :  660\n",
            "11_processed.txt :  579\n",
            "12_processed.txt :  694\n",
            "13_processed.txt :  656\n",
            "14_processed.txt :  560\n",
            "15_processed.txt :  645\n",
            "16_processed.txt :  627\n",
            "17_processed.txt :  644\n",
            "1_processed.txt :  620\n",
            "2_processed.txt :  721\n",
            "3_processed.txt :  1075\n",
            "4_processed.txt :  591\n",
            "5_processed.txt :  522\n",
            "6_processed.txt :  760\n",
            "7_processed.txt :  748\n",
            "8_processed.txt :  660\n",
            "9_processed.txt :  824\n",
            "\n"
          ]
        },
        {
          "output_type": "display_data",
          "data": {
            "text/plain": [
              "<Figure size 432x288 with 1 Axes>"
            ],
            "image/png": "[encoded data removed]"
          },
          "metadata": {
            "needs_background": "light"
          }
        }
      ]
    },
    {
      "cell_type": "code",
      "source": [
        "Statistics_by_file(occurrences_counter, websites)"
      ],
      "metadata": {
        "colab": {
          "base_uri": "https://localhost:8080/"
        },
        "id": "eWPScRCw0bNM",
        "outputId": "0f469963-a5dc-44a8-8618-b9cb1261eaff"
      },
      "execution_count": 76,
      "outputs": [
        {
          "output_type": "stream",
          "name": "stdout",
          "text": [
            "Statistics at the file level \n",
            "\n",
            "Minimum:  190  -  0_processed.txt\n",
            "Maximum:  1075  -  3_processed.txt\n",
            "Standard deviation:  164.25\n",
            "Mean:  654.22\n",
            "Median:  650.5\n"
          ]
        }
      ]
    },
    {
      "cell_type": "code",
      "source": [
        "occurrence_freq = Statistics_by_occurrences(occurrences)"
      ],
      "metadata": {
        "colab": {
          "base_uri": "https://localhost:8080/"
        },
        "id": "nbajpMf80oRq",
        "outputId": "7533750e-e346-46a2-b4b4-896f7881a20c"
      },
      "execution_count": 77,
      "outputs": [
        {
          "output_type": "stream",
          "name": "stdout",
          "text": [
            "Statistics at the occurrences level \n",
            "\n",
            "Minimum:  1\n",
            "Maximum:  199\n",
            "Standard deviation:  5.7\n",
            "Mean:  2.52\n",
            "Median:  1.0\n"
          ]
        }
      ]
    },
    {
      "cell_type": "code",
      "source": [
        "Most_frequent(occurrence_freq)"
      ],
      "metadata": {
        "colab": {
          "base_uri": "https://localhost:8080/"
        },
        "id": "ASA17J6H0z_p",
        "outputId": "8ed8e763-9337-4c73-ee2d-53bfd1959181"
      },
      "execution_count": 78,
      "outputs": [
        {
          "output_type": "stream",
          "name": "stdout",
          "text": [
            "Ten most frequent occurrences \n",
            "\n",
            "– :  199\n",
            "people :  147\n",
            "says :  144\n",
            "I :  86\n",
            "may :  83\n",
            "like :  81\n",
            "many :  72\n",
            "also :  66\n",
            "one :  63\n",
            "workers :  60\n"
          ]
        }
      ]
    },
    {
      "cell_type": "code",
      "source": [
        "Least_frequent(occurrence_freq)"
      ],
      "metadata": {
        "colab": {
          "base_uri": "https://localhost:8080/"
        },
        "id": "-RkR_J-s1CM0",
        "outputId": "d5e53c37-d530-417a-fb74-9c83881d3ba0"
      },
      "execution_count": 79,
      "outputs": [
        {
          "output_type": "stream",
          "name": "stdout",
          "text": [
            "Ten least frequent occurrences \n",
            "\n",
            "smarter. :  1\n",
            "better. :  1\n",
            "deeper.Our :  1\n",
            "shifting :  1\n",
            "scale. :  1\n",
            "rethinking :  1\n",
            "value :  1\n",
            "nine-to-five :  1\n",
            "quaint :  1\n",
            "relic :  1\n"
          ]
        }
      ]
    },
    {
      "cell_type": "markdown",
      "source": [
        "## Creating model and evaluation"
      ],
      "metadata": {
        "id": "Wzmaavc477wW"
      }
    },
    {
      "cell_type": "markdown",
      "source": [
        "The next cell is used to create a dataset (csv file). **Don't run this part if you want to use a dataset we already have, because this step will overwrite the existing one.**"
      ],
      "metadata": {
        "id": "2422NVon28Fe"
      }
    },
    {
      "cell_type": "code",
      "source": [
        "Make_csv(\"dataset_stopwrds.csv\")"
      ],
      "metadata": {
        "id": "S1rzLspn1hdd"
      },
      "execution_count": 80,
      "outputs": []
    },
    {
      "cell_type": "code",
      "source": [
        "Make_model(\"dataset_stopwrds.csv\")"
      ],
      "metadata": {
        "colab": {
          "base_uri": "https://localhost:8080/"
        },
        "id": "-9aq1Epy2akW",
        "outputId": "8becbf59-1b6a-4771-b2e7-58cd18cdd216"
      },
      "execution_count": 81,
      "outputs": [
        {
          "output_type": "stream",
          "name": "stdout",
          "text": [
            "Model accuracy:  66.0\n",
            "\n",
            "[[ 4  0  0  0]\n",
            " [ 1 15  0  0]\n",
            " [ 6 10  0  0]\n",
            " [ 0  0  0 14]]\n",
            "\n",
            "culture\n",
            "Precision:  36.36\n",
            "Recall:  100.0\n",
            "F1 score:  53.33\n",
            "\n",
            "future\n",
            "Precision:  60.0\n",
            "Recall:  93.75\n",
            "F1 score:  73.17\n",
            "\n",
            "travel\n",
            "Precision:  nan\n",
            "Recall:  0.0\n",
            "F1 score:  nan\n",
            "\n",
            "worklife\n",
            "Precision:  100.0\n",
            "Recall:  100.0\n",
            "F1 score:  100.0\n",
            "\n",
            "Macro precision:  nan\n",
            "Micro precision:  66.0\n",
            "Macro recall:  73.44\n",
            "Micro recall:  66.0\n",
            "Macro F1 score:  nan\n",
            "Micro F1 score:  66.0\n"
          ]
        },
        {
          "output_type": "stream",
          "name": "stderr",
          "text": [
            "<ipython-input-22-04765982702c>:4: RuntimeWarning: invalid value encountered in long_scalars\n",
            "  p = TP[i] / (TP[i] + FP[i])\n"
          ]
        }
      ]
    },
    {
      "cell_type": "markdown",
      "source": [
        "# No stopwords and with normalization"
      ],
      "metadata": {
        "id": "3iX9K5pq77iS"
      }
    },
    {
      "cell_type": "code",
      "source": [
        "for section in sections:\n",
        "    Processing_folder(section, False, True)"
      ],
      "metadata": {
        "id": "rAJ9wL9ey6CN"
      },
      "execution_count": 82,
      "outputs": []
    },
    {
      "cell_type": "markdown",
      "source": [
        "## Descriptive statistics"
      ],
      "metadata": {
        "id": "7cnVxiqR58UX"
      }
    },
    {
      "cell_type": "markdown",
      "source": [
        "### Culture"
      ],
      "metadata": {
        "id": "Dfq8h9ze77Gc"
      }
    },
    {
      "cell_type": "code",
      "source": [
        "websites, occurrences = Read(\"culture\")"
      ],
      "metadata": {
        "id": "HlgowQhqzjaB"
      },
      "execution_count": 83,
      "outputs": []
    },
    {
      "cell_type": "code",
      "source": [
        "occurrences_counter = Occurrences_by_files(websites)"
      ],
      "metadata": {
        "colab": {
          "base_uri": "https://localhost:8080/",
          "height": 491
        },
        "id": "PjpsptaH0J2q",
        "outputId": "f8accce5-c4c8-40e5-da98-5f373457551a"
      },
      "execution_count": 84,
      "outputs": [
        {
          "output_type": "stream",
          "name": "stdout",
          "text": [
            "Number of occurrences at the file level \n",
            "\n",
            "0_processed.txt :  720\n",
            "1_processed.txt :  889\n",
            "2_processed.txt :  800\n",
            "3_processed.txt :  431\n",
            "4_processed.txt :  776\n",
            "5_processed.txt :  755\n",
            "6_processed.txt :  695\n",
            "7_processed.txt :  760\n",
            "8_processed.txt :  850\n",
            "9_processed.txt :  609\n",
            "\n"
          ]
        },
        {
          "output_type": "display_data",
          "data": {
            "text/plain": [
              "<Figure size 432x288 with 1 Axes>"
            ],
            "image/png": "[encoded data removed]"
          },
          "metadata": {
            "needs_background": "light"
          }
        }
      ]
    },
    {
      "cell_type": "code",
      "source": [
        "Statistics_by_file(occurrences_counter, websites)"
      ],
      "metadata": {
        "colab": {
          "base_uri": "https://localhost:8080/"
        },
        "id": "Xa99WpKM0cR1",
        "outputId": "3bbfd57f-f8bd-4d5e-8b5d-cdf551285c8f"
      },
      "execution_count": 85,
      "outputs": [
        {
          "output_type": "stream",
          "name": "stdout",
          "text": [
            "Statistics at the file level \n",
            "\n",
            "Minimum:  431  -  3_processed.txt\n",
            "Maximum:  889  -  1_processed.txt\n",
            "Standard deviation:  123.92\n",
            "Mean:  728.5\n",
            "Median:  757.5\n"
          ]
        }
      ]
    },
    {
      "cell_type": "code",
      "source": [
        "occurrence_freq = Statistics_by_occurrences(occurrences)"
      ],
      "metadata": {
        "colab": {
          "base_uri": "https://localhost:8080/"
        },
        "id": "f_jjqKpl0nMa",
        "outputId": "20ed03ed-bb6e-47bf-be45-bc6b0cd865cd"
      },
      "execution_count": 86,
      "outputs": [
        {
          "output_type": "stream",
          "name": "stdout",
          "text": [
            "Statistics at the occurrences level \n",
            "\n",
            "Minimum:  1\n",
            "Maximum:  984\n",
            "Standard deviation:  26.27\n",
            "Mean:  4.69\n",
            "Median:  1.0\n"
          ]
        }
      ]
    },
    {
      "cell_type": "code",
      "source": [
        "Most_frequent(occurrence_freq)"
      ],
      "metadata": {
        "colab": {
          "base_uri": "https://localhost:8080/"
        },
        "id": "NL3YkpsA004q",
        "outputId": "b9a762a0-3bef-4bee-d5c0-d2d81e545b80"
      },
      "execution_count": 87,
      "outputs": [
        {
          "output_type": "stream",
          "name": "stdout",
          "text": [
            "Ten most frequent occurrences \n",
            "\n",
            "the :  984\n",
            "of :  585\n",
            "and :  574\n",
            "a :  555\n",
            "to :  433\n",
            "in :  382\n",
            "is :  216\n",
            "that :  196\n",
            "as :  182\n",
            "for :  169\n"
          ]
        }
      ]
    },
    {
      "cell_type": "code",
      "source": [
        "Least_frequent(occurrence_freq)"
      ],
      "metadata": {
        "colab": {
          "base_uri": "https://localhost:8080/"
        },
        "id": "DK2WB4Hy1A2k",
        "outputId": "241cab37-f9c3-4dc4-d560-b9f40569c0a3"
      },
      "execution_count": 88,
      "outputs": [
        {
          "output_type": "stream",
          "name": "stdout",
          "text": [
            "Ten least frequent occurrences \n",
            "\n",
            "janet :  1\n",
            "flanner :  1\n",
            "1967 :  1\n",
            "150th :  1\n",
            "occas :  1\n",
            "1920 :  1\n",
            "1926 :  1\n",
            "writersmor :  1\n",
            "reward :  1\n",
            "'lost :  1\n"
          ]
        }
      ]
    },
    {
      "cell_type": "markdown",
      "source": [
        "### Future"
      ],
      "metadata": {
        "id": "WwMIF4ER767f"
      }
    },
    {
      "cell_type": "code",
      "source": [
        "websites, occurrences = Read(\"future\")"
      ],
      "metadata": {
        "id": "mFrE7oS9zpsf"
      },
      "execution_count": 89,
      "outputs": []
    },
    {
      "cell_type": "code",
      "source": [
        "occurrences_counter = Occurrences_by_files(websites)"
      ],
      "metadata": {
        "colab": {
          "base_uri": "https://localhost:8080/",
          "height": 664
        },
        "id": "CwGa0g200KWJ",
        "outputId": "5273f872-bb19-4cfe-f392-c6381fa3de1c"
      },
      "execution_count": 90,
      "outputs": [
        {
          "output_type": "stream",
          "name": "stdout",
          "text": [
            "Number of occurrences at the file level \n",
            "\n",
            "0_processed.txt :  276\n",
            "10_processed.txt :  767\n",
            "11_processed.txt :  651\n",
            "12_processed.txt :  1331\n",
            "13_processed.txt :  680\n",
            "14_processed.txt :  714\n",
            "15_processed.txt :  557\n",
            "16_processed.txt :  604\n",
            "17_processed.txt :  814\n",
            "18_processed.txt :  579\n",
            "19_processed.txt :  819\n",
            "1_processed.txt :  603\n",
            "2_processed.txt :  763\n",
            "3_processed.txt :  606\n",
            "4_processed.txt :  730\n",
            "5_processed.txt :  795\n",
            "6_processed.txt :  915\n",
            "7_processed.txt :  640\n",
            "8_processed.txt :  582\n",
            "9_processed.txt :  784\n",
            "\n"
          ]
        },
        {
          "output_type": "display_data",
          "data": {
            "text/plain": [
              "<Figure size 432x288 with 1 Axes>"
            ],
            "image/png": "[encoded data removed]"
          },
          "metadata": {
            "needs_background": "light"
          }
        }
      ]
    },
    {
      "cell_type": "code",
      "source": [
        "Statistics_by_file(occurrences_counter, websites)"
      ],
      "metadata": {
        "colab": {
          "base_uri": "https://localhost:8080/"
        },
        "id": "dw6eUbQj0c7D",
        "outputId": "d6dcfd96-5b32-461a-b4a5-f3ea0364c7b0"
      },
      "execution_count": 91,
      "outputs": [
        {
          "output_type": "stream",
          "name": "stdout",
          "text": [
            "Statistics at the file level \n",
            "\n",
            "Minimum:  276  -  0_processed.txt\n",
            "Maximum:  1331  -  12_processed.txt\n",
            "Standard deviation:  194.63\n",
            "Mean:  710.5\n",
            "Median:  697.0\n"
          ]
        }
      ]
    },
    {
      "cell_type": "code",
      "source": [
        "occurrence_freq = Statistics_by_occurrences(occurrences)"
      ],
      "metadata": {
        "colab": {
          "base_uri": "https://localhost:8080/"
        },
        "id": "pravBmth0moP",
        "outputId": "7ee1cd25-8bd6-408e-e1cf-84b6bc40e01e"
      },
      "execution_count": 92,
      "outputs": [
        {
          "output_type": "stream",
          "name": "stdout",
          "text": [
            "Statistics at the occurrences level \n",
            "\n",
            "Minimum:  1\n",
            "Maximum:  2059\n",
            "Standard deviation:  46.56\n",
            "Mean:  7.23\n",
            "Median:  1.0\n"
          ]
        }
      ]
    },
    {
      "cell_type": "code",
      "source": [
        "Most_frequent(occurrence_freq)"
      ],
      "metadata": {
        "colab": {
          "base_uri": "https://localhost:8080/"
        },
        "id": "0Gaul3j-01nh",
        "outputId": "0ece7309-f069-4332-f723-35773f41738d"
      },
      "execution_count": 93,
      "outputs": [
        {
          "output_type": "stream",
          "name": "stdout",
          "text": [
            "Ten most frequent occurrences \n",
            "\n",
            "the :  2059\n",
            "of :  1197\n",
            "to :  1181\n",
            "and :  1056\n",
            "a :  955\n",
            "in :  861\n",
            "that :  554\n",
            "is :  426\n",
            "for :  364\n",
            "it :  358\n"
          ]
        }
      ]
    },
    {
      "cell_type": "code",
      "source": [
        "Least_frequent(occurrence_freq)"
      ],
      "metadata": {
        "colab": {
          "base_uri": "https://localhost:8080/"
        },
        "id": "UatBNd9-1AJx",
        "outputId": "2a75f8fc-abda-480a-8cf0-3aa5af0b5447"
      },
      "execution_count": 94,
      "outputs": [
        {
          "output_type": "stream",
          "name": "stdout",
          "text": [
            "Ten least frequent occurrences \n",
            "\n",
            "bore :  1\n",
            "stuff :  1\n",
            "conveni :  1\n",
            "moisten :  1\n",
            "99 :  1\n",
            "biologist :  1\n",
            "guy :  1\n",
            "king' :  1\n",
            "londonscientist :  1\n",
            "saliva' :  1\n"
          ]
        }
      ]
    },
    {
      "cell_type": "markdown",
      "source": [
        "### Travel"
      ],
      "metadata": {
        "id": "KtqmMSa976wT"
      }
    },
    {
      "cell_type": "code",
      "source": [
        "websites, occurrences = Read(\"travel\")"
      ],
      "metadata": {
        "id": "Y4UlfIOozw8Z"
      },
      "execution_count": 95,
      "outputs": []
    },
    {
      "cell_type": "code",
      "source": [
        "occurrences_counter = Occurrences_by_files(websites)"
      ],
      "metadata": {
        "colab": {
          "base_uri": "https://localhost:8080/",
          "height": 630
        },
        "id": "ZhJDqdqV0K77",
        "outputId": "4d26651d-a4f7-452c-81db-853350c59a7d"
      },
      "execution_count": 96,
      "outputs": [
        {
          "output_type": "stream",
          "name": "stdout",
          "text": [
            "Number of occurrences at the file level \n",
            "\n",
            "0_processed.txt :  638\n",
            "10_processed.txt :  696\n",
            "11_processed.txt :  593\n",
            "12_processed.txt :  647\n",
            "13_processed.txt :  633\n",
            "14_processed.txt :  656\n",
            "15_processed.txt :  686\n",
            "16_processed.txt :  647\n",
            "17_processed.txt :  642\n",
            "1_processed.txt :  641\n",
            "2_processed.txt :  681\n",
            "3_processed.txt :  765\n",
            "4_processed.txt :  704\n",
            "5_processed.txt :  711\n",
            "6_processed.txt :  792\n",
            "7_processed.txt :  744\n",
            "8_processed.txt :  660\n",
            "9_processed.txt :  1017\n",
            "\n"
          ]
        },
        {
          "output_type": "display_data",
          "data": {
            "text/plain": [
              "<Figure size 432x288 with 1 Axes>"
            ],
            "image/png": "[encoded data removed]"
          },
          "metadata": {
            "needs_background": "light"
          }
        }
      ]
    },
    {
      "cell_type": "code",
      "source": [
        "Statistics_by_file(occurrences_counter, websites)"
      ],
      "metadata": {
        "colab": {
          "base_uri": "https://localhost:8080/"
        },
        "id": "JWsvSBxf0de_",
        "outputId": "dd02a0c2-4985-413a-c445-63a21c8010e2"
      },
      "execution_count": 97,
      "outputs": [
        {
          "output_type": "stream",
          "name": "stdout",
          "text": [
            "Statistics at the file level \n",
            "\n",
            "Minimum:  593  -  11_processed.txt\n",
            "Maximum:  1017  -  9_processed.txt\n",
            "Standard deviation:  91.74\n",
            "Mean:  697.39\n",
            "Median:  670.5\n"
          ]
        }
      ]
    },
    {
      "cell_type": "code",
      "source": [
        "occurrence_freq = Statistics_by_occurrences(occurrences)"
      ],
      "metadata": {
        "colab": {
          "base_uri": "https://localhost:8080/"
        },
        "id": "zl36iAjf0mF5",
        "outputId": "b45e3f47-bb17-4e11-f4d8-69405a8bc97d"
      },
      "execution_count": 98,
      "outputs": [
        {
          "output_type": "stream",
          "name": "stdout",
          "text": [
            "Statistics at the occurrences level \n",
            "\n",
            "Minimum:  1\n",
            "Maximum:  2162\n",
            "Standard deviation:  41.45\n",
            "Mean:  5.9\n",
            "Median:  1.0\n"
          ]
        }
      ]
    },
    {
      "cell_type": "code",
      "source": [
        "Most_frequent(occurrence_freq)"
      ],
      "metadata": {
        "colab": {
          "base_uri": "https://localhost:8080/"
        },
        "id": "TsyMi-8Q02PW",
        "outputId": "3c8ef97a-170f-4a8b-bd5b-cda30fb3f235"
      },
      "execution_count": 99,
      "outputs": [
        {
          "output_type": "stream",
          "name": "stdout",
          "text": [
            "Ten most frequent occurrences \n",
            "\n",
            "the :  2162\n",
            "and :  972\n",
            "of :  955\n",
            "a :  833\n",
            "to :  820\n",
            "in :  614\n",
            "is :  310\n",
            "that :  303\n",
            "it :  282\n",
            "for :  274\n"
          ]
        }
      ]
    },
    {
      "cell_type": "code",
      "source": [
        "Least_frequent(occurrence_freq)"
      ],
      "metadata": {
        "colab": {
          "base_uri": "https://localhost:8080/"
        },
        "id": "hBZlCN_U0_eA",
        "outputId": "8e1cd5d9-1864-4489-8bea-55e98148b9d7"
      },
      "execution_count": 100,
      "outputs": [
        {
          "output_type": "stream",
          "name": "stdout",
          "text": [
            "Ten least frequent occurrences \n",
            "\n",
            "pibón :  1\n",
            "anishinaab :  1\n",
            "trembl :  1\n",
            "exuber :  1\n",
            "justdepart :  1\n",
            "pow :  1\n",
            "wow :  1\n",
            "woodlandsstyl :  1\n",
            "lifelong :  1\n",
            "canadasnow :  1\n"
          ]
        }
      ]
    },
    {
      "cell_type": "markdown",
      "source": [
        "### Worklife"
      ],
      "metadata": {
        "id": "LU-Omo4376mK"
      }
    },
    {
      "cell_type": "code",
      "source": [
        "websites, occurrences = Read(\"worklife\")"
      ],
      "metadata": {
        "id": "SubJhNjSz1NQ"
      },
      "execution_count": 101,
      "outputs": []
    },
    {
      "cell_type": "code",
      "source": [
        "occurrences_counter = Occurrences_by_files(websites)"
      ],
      "metadata": {
        "colab": {
          "base_uri": "https://localhost:8080/",
          "height": 630
        },
        "id": "tXqpnkyl0Lsj",
        "outputId": "1d3fcd40-787d-459e-a9e4-87b9f504dfea"
      },
      "execution_count": 102,
      "outputs": [
        {
          "output_type": "stream",
          "name": "stdout",
          "text": [
            "Number of occurrences at the file level \n",
            "\n",
            "0_processed.txt :  203\n",
            "10_processed.txt :  562\n",
            "11_processed.txt :  542\n",
            "12_processed.txt :  623\n",
            "13_processed.txt :  588\n",
            "14_processed.txt :  527\n",
            "15_processed.txt :  582\n",
            "16_processed.txt :  558\n",
            "17_processed.txt :  584\n",
            "1_processed.txt :  548\n",
            "2_processed.txt :  671\n",
            "3_processed.txt :  841\n",
            "4_processed.txt :  554\n",
            "5_processed.txt :  494\n",
            "6_processed.txt :  683\n",
            "7_processed.txt :  677\n",
            "8_processed.txt :  582\n",
            "9_processed.txt :  741\n",
            "\n"
          ]
        },
        {
          "output_type": "display_data",
          "data": {
            "text/plain": [
              "<Figure size 432x288 with 1 Axes>"
            ],
            "image/png": "[encoded data removed]"
          },
          "metadata": {
            "needs_background": "light"
          }
        }
      ]
    },
    {
      "cell_type": "code",
      "source": [
        "Statistics_by_file(occurrences_counter, websites)"
      ],
      "metadata": {
        "colab": {
          "base_uri": "https://localhost:8080/"
        },
        "id": "DzP6oQvO0eDL",
        "outputId": "af5fd4e9-8831-4334-d7a0-5cd7c0429f8a"
      },
      "execution_count": 103,
      "outputs": [
        {
          "output_type": "stream",
          "name": "stdout",
          "text": [
            "Statistics at the file level \n",
            "\n",
            "Minimum:  203  -  0_processed.txt\n",
            "Maximum:  841  -  3_processed.txt\n",
            "Standard deviation:  124.67\n",
            "Mean:  586.67\n",
            "Median:  582.0\n"
          ]
        }
      ]
    },
    {
      "cell_type": "code",
      "source": [
        "occurrence_freq = Statistics_by_occurrences(occurrences)"
      ],
      "metadata": {
        "colab": {
          "base_uri": "https://localhost:8080/"
        },
        "id": "vyni9UUm0llU",
        "outputId": "6afec11c-0a1d-48ef-ce93-523a63d26d74"
      },
      "execution_count": 104,
      "outputs": [
        {
          "output_type": "stream",
          "name": "stdout",
          "text": [
            "Statistics at the occurrences level \n",
            "\n",
            "Minimum:  1\n",
            "Maximum:  1024\n",
            "Standard deviation:  33.59\n",
            "Mean:  6.69\n",
            "Median:  1.0\n"
          ]
        }
      ]
    },
    {
      "cell_type": "code",
      "source": [
        "Most_frequent(occurrence_freq)"
      ],
      "metadata": {
        "colab": {
          "base_uri": "https://localhost:8080/"
        },
        "id": "02W_-BgC027m",
        "outputId": "88990351-3cb6-4bc9-8984-b4c96d6790ff"
      },
      "execution_count": 105,
      "outputs": [
        {
          "output_type": "stream",
          "name": "stdout",
          "text": [
            "Ten most frequent occurrences \n",
            "\n",
            "the :  1024\n",
            "to :  845\n",
            "of :  690\n",
            "and :  690\n",
            "a :  669\n",
            "in :  523\n",
            "that :  360\n",
            "for :  327\n",
            "be :  254\n",
            "is :  244\n"
          ]
        }
      ]
    },
    {
      "cell_type": "code",
      "source": [
        "Least_frequent(occurrence_freq)"
      ],
      "metadata": {
        "colab": {
          "base_uri": "https://localhost:8080/"
        },
        "id": "zwmyTy8B0-tn",
        "outputId": "405448fe-430f-491b-a4b0-ba839209f2a8"
      },
      "execution_count": 106,
      "outputs": [
        {
          "output_type": "stream",
          "name": "stdout",
          "text": [
            "Ten least frequent occurrences \n",
            "\n",
            "deeperour :  1\n",
            "ninetof :  1\n",
            "quaint :  1\n",
            "relic :  1\n",
            "bleed :  1\n",
            "uncertainti :  1\n",
            "understandto :  1\n",
            "lifeour :  1\n",
            "mission :  1\n",
            "yourself :  1\n"
          ]
        }
      ]
    },
    {
      "cell_type": "markdown",
      "source": [
        "## Creating model and evaluation"
      ],
      "metadata": {
        "id": "HnjnFZjw76WS"
      }
    },
    {
      "cell_type": "markdown",
      "source": [
        "The next cell is used to create a dataset (csv file). **Don't run this part if you want to use a dataset we already have, because this step will overwrite the existing one.**"
      ],
      "metadata": {
        "id": "jFM_TFnz3A4q"
      }
    },
    {
      "cell_type": "code",
      "source": [
        "Make_csv(\"dataset_norm.csv\")"
      ],
      "metadata": {
        "id": "h41TSM_a15mW"
      },
      "execution_count": 107,
      "outputs": []
    },
    {
      "cell_type": "code",
      "source": [
        "Make_model(\"dataset_norm.csv\")"
      ],
      "metadata": {
        "colab": {
          "base_uri": "https://localhost:8080/"
        },
        "id": "sIlJX3jt2dj8",
        "outputId": "85f7275b-a479-44b5-c7c5-e17d04ac058d"
      },
      "execution_count": 108,
      "outputs": [
        {
          "output_type": "stream",
          "name": "stdout",
          "text": [
            "Model accuracy:  60.0\n",
            "\n",
            "[[ 4  0  0  0]\n",
            " [ 1 15  0  0]\n",
            " [ 9  7  0  0]\n",
            " [ 1  2  0 11]]\n",
            "\n",
            "culture\n",
            "Precision:  26.67\n",
            "Recall:  100.0\n",
            "F1 score:  42.11\n",
            "\n",
            "future\n",
            "Precision:  62.5\n",
            "Recall:  93.75\n",
            "F1 score:  75.0\n",
            "\n",
            "travel\n",
            "Precision:  nan\n",
            "Recall:  0.0\n",
            "F1 score:  nan\n",
            "\n",
            "worklife\n",
            "Precision:  100.0\n",
            "Recall:  78.57\n",
            "F1 score:  88.0\n",
            "\n",
            "Macro precision:  nan\n",
            "Micro precision:  60.0\n",
            "Macro recall:  68.08\n",
            "Micro recall:  60.0\n",
            "Macro F1 score:  nan\n",
            "Micro F1 score:  60.0\n"
          ]
        },
        {
          "output_type": "stream",
          "name": "stderr",
          "text": [
            "<ipython-input-22-04765982702c>:4: RuntimeWarning: invalid value encountered in long_scalars\n",
            "  p = TP[i] / (TP[i] + FP[i])\n"
          ]
        }
      ]
    },
    {
      "cell_type": "markdown",
      "source": [
        "# With stopwords and with normalization"
      ],
      "metadata": {
        "id": "e-GVM8aC76HT"
      }
    },
    {
      "cell_type": "code",
      "source": [
        "for section in sections:\n",
        "    Processing_folder(section, True, True)"
      ],
      "metadata": {
        "id": "moqCzfILy9dj"
      },
      "execution_count": 109,
      "outputs": []
    },
    {
      "cell_type": "markdown",
      "source": [
        "## Descriptive statistics"
      ],
      "metadata": {
        "id": "cb0Ogoah5_gd"
      }
    },
    {
      "cell_type": "markdown",
      "source": [
        "### Culture"
      ],
      "metadata": {
        "id": "gG0h1Mv5757W"
      }
    },
    {
      "cell_type": "code",
      "source": [
        "websites, occurrences = Read(\"culture\")"
      ],
      "metadata": {
        "id": "o74I5PbfzkMA"
      },
      "execution_count": 110,
      "outputs": []
    },
    {
      "cell_type": "code",
      "source": [
        "occurrences_counter = Occurrences_by_files(websites)"
      ],
      "metadata": {
        "colab": {
          "base_uri": "https://localhost:8080/",
          "height": 491
        },
        "id": "QnkxWLih0NM5",
        "outputId": "cbcc87d4-3b50-4b1a-966a-8163e37a77eb"
      },
      "execution_count": 111,
      "outputs": [
        {
          "output_type": "stream",
          "name": "stdout",
          "text": [
            "Number of occurrences at the file level \n",
            "\n",
            "0_processed.txt :  649\n",
            "1_processed.txt :  808\n",
            "2_processed.txt :  719\n",
            "3_processed.txt :  368\n",
            "4_processed.txt :  686\n",
            "5_processed.txt :  675\n",
            "6_processed.txt :  623\n",
            "7_processed.txt :  677\n",
            "8_processed.txt :  768\n",
            "9_processed.txt :  533\n",
            "\n"
          ]
        },
        {
          "output_type": "display_data",
          "data": {
            "text/plain": [
              "<Figure size 432x288 with 1 Axes>"
            ],
            "image/png": "[encoded data removed]"
          },
          "metadata": {
            "needs_background": "light"
          }
        }
      ]
    },
    {
      "cell_type": "code",
      "source": [
        "Statistics_by_file(occurrences_counter, websites)"
      ],
      "metadata": {
        "colab": {
          "base_uri": "https://localhost:8080/"
        },
        "id": "vVGICMzn0fNG",
        "outputId": "69c03490-d5fe-4bbb-e7c4-f7a6c6925020"
      },
      "execution_count": 112,
      "outputs": [
        {
          "output_type": "stream",
          "name": "stdout",
          "text": [
            "Statistics at the file level \n",
            "\n",
            "Minimum:  368  -  3_processed.txt\n",
            "Maximum:  808  -  1_processed.txt\n",
            "Standard deviation:  118.42\n",
            "Mean:  650.6\n",
            "Median:  676.0\n"
          ]
        }
      ]
    },
    {
      "cell_type": "code",
      "source": [
        "occurrence_freq = Statistics_by_occurrences(occurrences)"
      ],
      "metadata": {
        "colab": {
          "base_uri": "https://localhost:8080/"
        },
        "id": "a_e9C0WE0ktl",
        "outputId": "cdde419c-d294-4664-f388-0e8531e94254"
      },
      "execution_count": 113,
      "outputs": [
        {
          "output_type": "stream",
          "name": "stdout",
          "text": [
            "Statistics at the occurrences level \n",
            "\n",
            "Minimum:  1\n",
            "Maximum:  119\n",
            "Standard deviation:  5.72\n",
            "Mean:  2.9\n",
            "Median:  1.0\n"
          ]
        }
      ]
    },
    {
      "cell_type": "code",
      "source": [
        "Most_frequent(occurrence_freq)"
      ],
      "metadata": {
        "colab": {
          "base_uri": "https://localhost:8080/"
        },
        "id": "q3xKroiU031L",
        "outputId": "7b17ac63-3405-401a-a033-d3e5d2673726"
      },
      "execution_count": 114,
      "outputs": [
        {
          "output_type": "stream",
          "name": "stdout",
          "text": [
            "Ten most frequent occurrences \n",
            "\n",
            "wa :  119\n",
            "– :  104\n",
            "hi :  97\n",
            "thi :  92\n",
            "like :  69\n",
            "film :  63\n",
            "ha :  62\n",
            "cultur :  57\n",
            "work :  55\n",
            "us :  53\n"
          ]
        }
      ]
    },
    {
      "cell_type": "code",
      "source": [
        "Least_frequent(occurrence_freq)"
      ],
      "metadata": {
        "colab": {
          "base_uri": "https://localhost:8080/"
        },
        "id": "P7GlvgwI09jL",
        "outputId": "867d9fbc-2be7-4ea3-874c-6d5d24503bd1"
      },
      "execution_count": 115,
      "outputs": [
        {
          "output_type": "stream",
          "name": "stdout",
          "text": [
            "Ten least frequent occurrences \n",
            "\n",
            "janet :  1\n",
            "flanner :  1\n",
            "1967 :  1\n",
            "150th :  1\n",
            "occas :  1\n",
            "1920 :  1\n",
            "1926 :  1\n",
            "writersmor :  1\n",
            "reward :  1\n",
            "'lost :  1\n"
          ]
        }
      ]
    },
    {
      "cell_type": "markdown",
      "source": [
        "### Future"
      ],
      "metadata": {
        "id": "yaaiU0k775rN"
      }
    },
    {
      "cell_type": "code",
      "source": [
        "websites, occurrences = Read(\"future\")"
      ],
      "metadata": {
        "id": "N654ZhX6zohB"
      },
      "execution_count": 116,
      "outputs": []
    },
    {
      "cell_type": "code",
      "source": [
        "occurrences_counter = Occurrences_by_files(websites)"
      ],
      "metadata": {
        "colab": {
          "base_uri": "https://localhost:8080/",
          "height": 664
        },
        "id": "OgS6km0b0Nu_",
        "outputId": "3c60a155-8793-482e-c35b-a54055a65ebc"
      },
      "execution_count": 117,
      "outputs": [
        {
          "output_type": "stream",
          "name": "stdout",
          "text": [
            "Number of occurrences at the file level \n",
            "\n",
            "0_processed.txt :  228\n",
            "10_processed.txt :  696\n",
            "11_processed.txt :  576\n",
            "12_processed.txt :  1235\n",
            "13_processed.txt :  608\n",
            "14_processed.txt :  631\n",
            "15_processed.txt :  485\n",
            "16_processed.txt :  526\n",
            "17_processed.txt :  730\n",
            "18_processed.txt :  502\n",
            "19_processed.txt :  742\n",
            "1_processed.txt :  527\n",
            "2_processed.txt :  677\n",
            "3_processed.txt :  530\n",
            "4_processed.txt :  648\n",
            "5_processed.txt :  716\n",
            "6_processed.txt :  822\n",
            "7_processed.txt :  554\n",
            "8_processed.txt :  508\n",
            "9_processed.txt :  698\n",
            "\n"
          ]
        },
        {
          "output_type": "display_data",
          "data": {
            "text/plain": [
              "<Figure size 432x288 with 1 Axes>"
            ],
            "image/png": "[encoded data removed]"
          },
          "metadata": {
            "needs_background": "light"
          }
        }
      ]
    },
    {
      "cell_type": "code",
      "source": [
        "Statistics_by_file(occurrences_counter, websites)"
      ],
      "metadata": {
        "colab": {
          "base_uri": "https://localhost:8080/"
        },
        "id": "aaaOaZPB0fxz",
        "outputId": "c7aeb03e-428c-4140-8b40-9cb0c40e61b1"
      },
      "execution_count": 118,
      "outputs": [
        {
          "output_type": "stream",
          "name": "stdout",
          "text": [
            "Statistics at the file level \n",
            "\n",
            "Minimum:  228  -  0_processed.txt\n",
            "Maximum:  1235  -  12_processed.txt\n",
            "Standard deviation:  186.92\n",
            "Mean:  631.95\n",
            "Median:  619.5\n"
          ]
        }
      ]
    },
    {
      "cell_type": "code",
      "source": [
        "occurrence_freq = Statistics_by_occurrences(occurrences)"
      ],
      "metadata": {
        "colab": {
          "base_uri": "https://localhost:8080/"
        },
        "id": "lhWlvqfh0kGk",
        "outputId": "c2dc7ce2-3bc8-4a86-c663-d9bb143e9e59"
      },
      "execution_count": 119,
      "outputs": [
        {
          "output_type": "stream",
          "name": "stdout",
          "text": [
            "Statistics at the occurrences level \n",
            "\n",
            "Minimum:  1\n",
            "Maximum:  257\n",
            "Standard deviation:  10.79\n",
            "Mean:  4.37\n",
            "Median:  1.0\n"
          ]
        }
      ]
    },
    {
      "cell_type": "code",
      "source": [
        "Most_frequent(occurrence_freq)"
      ],
      "metadata": {
        "colab": {
          "base_uri": "https://localhost:8080/"
        },
        "id": "4fb6sq3M04g9",
        "outputId": "ec3b25b0-73f1-476b-82c7-dccf6201b85c"
      },
      "execution_count": 120,
      "outputs": [
        {
          "output_type": "stream",
          "name": "stdout",
          "text": [
            "Ten most frequent occurrences \n",
            "\n",
            "say :  257\n",
            "– :  248\n",
            "wa :  224\n",
            "thi :  202\n",
            "one :  140\n",
            "peopl :  132\n",
            "also :  126\n",
            "ha :  124\n",
            "like :  116\n",
            "hi :  104\n"
          ]
        }
      ]
    },
    {
      "cell_type": "code",
      "source": [
        "Least_frequent(occurrence_freq)"
      ],
      "metadata": {
        "colab": {
          "base_uri": "https://localhost:8080/"
        },
        "id": "-Xa5uNUZ08-t",
        "outputId": "f4cd4da8-18c5-4c50-a6e8-db620e2f9b7e"
      },
      "execution_count": 121,
      "outputs": [
        {
          "output_type": "stream",
          "name": "stdout",
          "text": [
            "Ten least frequent occurrences \n",
            "\n",
            "bore :  1\n",
            "stuff :  1\n",
            "conveni :  1\n",
            "moisten :  1\n",
            "99 :  1\n",
            "biologist :  1\n",
            "guy :  1\n",
            "king' :  1\n",
            "londonscientist :  1\n",
            "saliva' :  1\n"
          ]
        }
      ]
    },
    {
      "cell_type": "markdown",
      "source": [
        "### Travel"
      ],
      "metadata": {
        "id": "ilIAF6Bn75fv"
      }
    },
    {
      "cell_type": "code",
      "source": [
        "websites, occurrences = Read(\"travel\")"
      ],
      "metadata": {
        "id": "mcr4z-eQzxoq"
      },
      "execution_count": 122,
      "outputs": []
    },
    {
      "cell_type": "code",
      "source": [
        "occurrences_counter = Occurrences_by_files(websites)"
      ],
      "metadata": {
        "colab": {
          "base_uri": "https://localhost:8080/",
          "height": 630
        },
        "id": "06NXxZ9U0O9n",
        "outputId": "abab12f2-7f2c-4028-9474-ae83c6138658"
      },
      "execution_count": 123,
      "outputs": [
        {
          "output_type": "stream",
          "name": "stdout",
          "text": [
            "Number of occurrences at the file level \n",
            "\n",
            "0_processed.txt :  557\n",
            "10_processed.txt :  621\n",
            "11_processed.txt :  530\n",
            "12_processed.txt :  567\n",
            "13_processed.txt :  557\n",
            "14_processed.txt :  581\n",
            "15_processed.txt :  605\n",
            "16_processed.txt :  577\n",
            "17_processed.txt :  563\n",
            "1_processed.txt :  561\n",
            "2_processed.txt :  598\n",
            "3_processed.txt :  684\n",
            "4_processed.txt :  630\n",
            "5_processed.txt :  635\n",
            "6_processed.txt :  710\n",
            "7_processed.txt :  662\n",
            "8_processed.txt :  581\n",
            "9_processed.txt :  928\n",
            "\n"
          ]
        },
        {
          "output_type": "display_data",
          "data": {
            "text/plain": [
              "<Figure size 432x288 with 1 Axes>"
            ],
            "image/png": "[encoded data removed]"
          },
          "metadata": {
            "needs_background": "light"
          }
        }
      ]
    },
    {
      "cell_type": "code",
      "source": [
        "Statistics_by_file(occurrences_counter, websites)"
      ],
      "metadata": {
        "colab": {
          "base_uri": "https://localhost:8080/"
        },
        "id": "wqLoBjny0gfo",
        "outputId": "3e2e26c5-bc62-4bcb-aa04-4486e6af196c"
      },
      "execution_count": 124,
      "outputs": [
        {
          "output_type": "stream",
          "name": "stdout",
          "text": [
            "Statistics at the file level \n",
            "\n",
            "Minimum:  530  -  11_processed.txt\n",
            "Maximum:  928  -  9_processed.txt\n",
            "Standard deviation:  88.29\n",
            "Mean:  619.28\n",
            "Median:  589.5\n"
          ]
        }
      ]
    },
    {
      "cell_type": "code",
      "source": [
        "occurrence_freq = Statistics_by_occurrences(occurrences)"
      ],
      "metadata": {
        "colab": {
          "base_uri": "https://localhost:8080/"
        },
        "id": "VrcUe4tt0jdb",
        "outputId": "6d24209c-ffff-4d4e-a626-8d67431b78cd"
      },
      "execution_count": 125,
      "outputs": [
        {
          "output_type": "stream",
          "name": "stdout",
          "text": [
            "Statistics at the occurrences level \n",
            "\n",
            "Minimum:  1\n",
            "Maximum:  216\n",
            "Standard deviation:  7.6\n",
            "Mean:  3.67\n",
            "Median:  1.0\n"
          ]
        }
      ]
    },
    {
      "cell_type": "code",
      "source": [
        "Most_frequent(occurrence_freq)"
      ],
      "metadata": {
        "colab": {
          "base_uri": "https://localhost:8080/"
        },
        "id": "a8V_CUUZ05OD",
        "outputId": "ecb51c2a-566e-4a70-8983-21196d8bea69"
      },
      "execution_count": 126,
      "outputs": [
        {
          "output_type": "stream",
          "name": "stdout",
          "text": [
            "Ten most frequent occurrences \n",
            "\n",
            "wa :  216\n",
            "thi :  126\n",
            "like :  117\n",
            "credit :  99\n",
            "said :  97\n",
            "one :  82\n",
            "ha :  82\n",
            "– :  81\n",
            "us :  76\n",
            "travel :  76\n"
          ]
        }
      ]
    },
    {
      "cell_type": "code",
      "source": [
        "Least_frequent(occurrence_freq)"
      ],
      "metadata": {
        "colab": {
          "base_uri": "https://localhost:8080/"
        },
        "id": "I9-A9aNP08Qo",
        "outputId": "303d45e6-e263-4eb1-81d7-652aebced28e"
      },
      "execution_count": 127,
      "outputs": [
        {
          "output_type": "stream",
          "name": "stdout",
          "text": [
            "Ten least frequent occurrences \n",
            "\n",
            "pibón :  1\n",
            "anishinaab :  1\n",
            "trembl :  1\n",
            "exuber :  1\n",
            "justdepart :  1\n",
            "pow :  1\n",
            "wow :  1\n",
            "woodlandsstyl :  1\n",
            "lifelong :  1\n",
            "canadasnow :  1\n"
          ]
        }
      ]
    },
    {
      "cell_type": "markdown",
      "source": [
        "### Worklife"
      ],
      "metadata": {
        "id": "nTbyn9rU75QH"
      }
    },
    {
      "cell_type": "code",
      "source": [
        "websites, occurrences = Read(\"worklife\")"
      ],
      "metadata": {
        "id": "9hwMqJlKzzSq"
      },
      "execution_count": 128,
      "outputs": []
    },
    {
      "cell_type": "code",
      "source": [
        "occurrences_counter = Occurrences_by_files(websites)"
      ],
      "metadata": {
        "colab": {
          "base_uri": "https://localhost:8080/",
          "height": 630
        },
        "id": "_8Ot37SE0Pl9",
        "outputId": "e2f80557-03d0-475e-c0cd-650d07c54d89"
      },
      "execution_count": 129,
      "outputs": [
        {
          "output_type": "stream",
          "name": "stdout",
          "text": [
            "Number of occurrences at the file level \n",
            "\n",
            "0_processed.txt :  161\n",
            "10_processed.txt :  485\n",
            "11_processed.txt :  477\n",
            "12_processed.txt :  547\n",
            "13_processed.txt :  513\n",
            "14_processed.txt :  457\n",
            "15_processed.txt :  513\n",
            "16_processed.txt :  490\n",
            "17_processed.txt :  514\n",
            "1_processed.txt :  483\n",
            "2_processed.txt :  602\n",
            "3_processed.txt :  749\n",
            "4_processed.txt :  482\n",
            "5_processed.txt :  419\n",
            "6_processed.txt :  617\n",
            "7_processed.txt :  591\n",
            "8_processed.txt :  506\n",
            "9_processed.txt :  656\n",
            "\n"
          ]
        },
        {
          "output_type": "display_data",
          "data": {
            "text/plain": [
              "<Figure size 432x288 with 1 Axes>"
            ],
            "image/png": "[encoded data removed]"
          },
          "metadata": {
            "needs_background": "light"
          }
        }
      ]
    },
    {
      "cell_type": "code",
      "source": [
        "Statistics_by_file(occurrences_counter, websites)"
      ],
      "metadata": {
        "colab": {
          "base_uri": "https://localhost:8080/"
        },
        "id": "7c8ikj_00hE3",
        "outputId": "1b0e42f3-91cc-4c3b-d730-0db8a9f27bd8"
      },
      "execution_count": 130,
      "outputs": [
        {
          "output_type": "stream",
          "name": "stdout",
          "text": [
            "Statistics at the file level \n",
            "\n",
            "Minimum:  161  -  0_processed.txt\n",
            "Maximum:  749  -  3_processed.txt\n",
            "Standard deviation:  116.06\n",
            "Mean:  514.56\n",
            "Median:  509.5\n"
          ]
        }
      ]
    },
    {
      "cell_type": "code",
      "source": [
        "occurrence_freq = Statistics_by_occurrences(occurrences)"
      ],
      "metadata": {
        "colab": {
          "base_uri": "https://localhost:8080/"
        },
        "id": "mNdzs9_20isD",
        "outputId": "c5bff69c-5ddd-4640-946d-35de1ff882cf"
      },
      "execution_count": 131,
      "outputs": [
        {
          "output_type": "stream",
          "name": "stdout",
          "text": [
            "Statistics at the occurrences level \n",
            "\n",
            "Minimum:  1\n",
            "Maximum:  240\n",
            "Standard deviation:  9.86\n",
            "Mean:  4.12\n",
            "Median:  1.0\n"
          ]
        }
      ]
    },
    {
      "cell_type": "code",
      "source": [
        "Most_frequent(occurrence_freq)"
      ],
      "metadata": {
        "colab": {
          "base_uri": "https://localhost:8080/"
        },
        "id": "7o1Zz7TQ06As",
        "outputId": "9fe9826e-54d2-469c-81c4-911f8e939d08"
      },
      "execution_count": 132,
      "outputs": [
        {
          "output_type": "stream",
          "name": "stdout",
          "text": [
            "Ten most frequent occurrences \n",
            "\n",
            "say :  240\n",
            "– :  199\n",
            "peopl :  166\n",
            "like :  118\n",
            "relationship :  112\n",
            "work :  112\n",
            "wa :  108\n",
            "thi :  104\n",
            "worker :  92\n",
            "ha :  90\n"
          ]
        }
      ]
    },
    {
      "cell_type": "code",
      "source": [
        "Least_frequent(occurrence_freq)"
      ],
      "metadata": {
        "colab": {
          "base_uri": "https://localhost:8080/"
        },
        "id": "HLDIhFUN07c2",
        "outputId": "41e3ea04-713a-4c61-a6a0-b09707f8e6e9"
      },
      "execution_count": 133,
      "outputs": [
        {
          "output_type": "stream",
          "name": "stdout",
          "text": [
            "Ten least frequent occurrences \n",
            "\n",
            "deeperour :  1\n",
            "ninetof :  1\n",
            "quaint :  1\n",
            "relic :  1\n",
            "bleed :  1\n",
            "uncertainti :  1\n",
            "understandto :  1\n",
            "lifeour :  1\n",
            "mission :  1\n",
            "stifl :  1\n"
          ]
        }
      ]
    },
    {
      "cell_type": "markdown",
      "source": [
        "## Creating model and evaluation"
      ],
      "metadata": {
        "id": "JBCTzVEy75CU"
      }
    },
    {
      "cell_type": "markdown",
      "source": [
        "The next cell is used to create a dataset (csv file). **Don't run this part if you want to use a dataset we already have, because this step will overwrite the existing one.**"
      ],
      "metadata": {
        "id": "B0vLxIlD3Cq8"
      }
    },
    {
      "cell_type": "code",
      "source": [
        "Make_csv(\"dataset_stopwrds_norm.csv\")"
      ],
      "metadata": {
        "id": "8Ew54vzH1_Zn"
      },
      "execution_count": 134,
      "outputs": []
    },
    {
      "cell_type": "code",
      "source": [
        "Make_model(\"dataset_stopwrds_norm.csv\")"
      ],
      "metadata": {
        "colab": {
          "base_uri": "https://localhost:8080/"
        },
        "id": "x-GGoIVU2grW",
        "outputId": "866ce9a2-9c10-4402-d70a-60947a99eafa"
      },
      "execution_count": 135,
      "outputs": [
        {
          "output_type": "stream",
          "name": "stdout",
          "text": [
            "Model accuracy:  66.0\n",
            "\n",
            "[[ 4  0  0  0]\n",
            " [ 1 14  1  0]\n",
            " [ 5 10  1  0]\n",
            " [ 0  0  0 14]]\n",
            "\n",
            "culture\n",
            "Precision:  40.0\n",
            "Recall:  100.0\n",
            "F1 score:  57.14\n",
            "\n",
            "future\n",
            "Precision:  58.33\n",
            "Recall:  87.5\n",
            "F1 score:  70.0\n",
            "\n",
            "travel\n",
            "Precision:  50.0\n",
            "Recall:  6.25\n",
            "F1 score:  11.11\n",
            "\n",
            "worklife\n",
            "Precision:  100.0\n",
            "Recall:  100.0\n",
            "F1 score:  100.0\n",
            "\n",
            "Macro precision:  62.08\n",
            "Micro precision:  66.0\n",
            "Macro recall:  73.44\n",
            "Micro recall:  66.0\n",
            "Macro F1 score:  67.28\n",
            "Micro F1 score:  66.0\n"
          ]
        }
      ]
    },
    {
      "cell_type": "code",
      "source": [],
      "metadata": {
        "id": "de3OJFHp5CDY"
      },
      "execution_count": null,
      "outputs": []
    }
  ]
}